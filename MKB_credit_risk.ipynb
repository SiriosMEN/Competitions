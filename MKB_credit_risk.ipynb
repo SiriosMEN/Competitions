{
  "nbformat": 4,
  "nbformat_minor": 0,
  "metadata": {
    "colab": {
      "name": "MKB_credit_risk.ipynb",
      "provenance": [],
      "collapsed_sections": [
        "kZ9IFB4_WP-G",
        "nNLwSrwrPPzZ",
        "FbMls7eFwWWB",
        "P43kF6AVPb73",
        "B3c0lJ_M43L1",
        "pvrWmtNKBh4H"
      ],
      "mount_file_id": "1caYQoKUUA-o6PN36J0h8zJAiq04MV4wc",
      "authorship_tag": "ABX9TyMlQ1EVE7SK1hr3NkPNki0o",
      "include_colab_link": true
    },
    "kernelspec": {
      "name": "python3",
      "display_name": "Python 3"
    },
    "language_info": {
      "name": "python"
    }
  },
  "cells": [
    {
      "cell_type": "markdown",
      "metadata": {
        "id": "view-in-github",
        "colab_type": "text"
      },
      "source": [
        "<a href=\"https://colab.research.google.com/github/SiriosMEN/Competitions/blob/main/MKB_credit_risk.ipynb\" target=\"_parent\"><img src=\"https://colab.research.google.com/assets/colab-badge.svg\" alt=\"Open In Colab\"/></a>"
      ]
    },
    {
      "cell_type": "markdown",
      "metadata": {
        "id": "fiUvmWE8bMB-"
      },
      "source": [
        "## Постановка задачи"
      ]
    },
    {
      "cell_type": "markdown",
      "metadata": {
        "id": "uXxKCSUETwY7"
      },
      "source": [
        "**Задача от МКБ хакатон.**"
      ]
    },
    {
      "cell_type": "markdown",
      "metadata": {
        "id": "Cl3UdpqIbGWY"
      },
      "source": [
        "Модель оценки вероятности предъявления по гарантии для клиентов МСБ\n",
        "Для заключения контрактов в рамках системы госзакупок поставщикам товаров / услуг необходимо получить гарантию исполнения контракта со стороны банков. В случае, если поставщик не выполнит контракт, заказчик предъявит денежное требование выдавшему гарантию банку. Для того, чтобы минимизировать потери от кредитного риска, необходима модель, прогнозирующая вероятность предъявления по гарантии.\n",
        "\n",
        "Задача заключается в построении аппликационной модели оценки вероятности предъявления по отдельной гарантии. В качестве предикторов для моделирования используются данные о клиенте, включая различные собранные «анкетные» данные, а также финансовые показатели компаний. Поставщиками могут быть как юридические лица, так и индивидуальные предприниматели. Соответственно, некоторые данные могут быть присущи только ИП или только ЮЛ. Для построения модели используется основная выборка (17 891 наблюдения), в которой указана целевая переменная – факт предъявления по гарантии. В качестве результата по всем наблюдениям необходимо получить балльную оценку и значение вероятности предъявления по гарантии.\n",
        "\n",
        "Для выявления победителя будет произведена качественная оценка построенной модели на тестовой выборке (7 330 наблюдений), которую необходимо проскорить в соответствии с построенной моделью. Помимо качества дифференцирующей способности, будет учтена интерпретируемость модели.\n",
        "\n",
        "Решения оцениваются по метрике ROC/AUC Score. "
      ]
    },
    {
      "cell_type": "markdown",
      "metadata": {
        "id": "KlRaKOdNbdEZ"
      },
      "source": [
        "\n",
        "**Применимость** \n",
        "Возможность применения вашего решения в бизнес-процессах банка\n",
        "\n",
        "**Интерпретируемость**\n",
        "Возможность выяснить факторы модели, которые повлияли на прогноз\n",
        "\n",
        "**Инновации**\n",
        "Использование инновационных подходов при решении"
      ]
    },
    {
      "cell_type": "markdown",
      "metadata": {
        "id": "asn3oARhb9NM"
      },
      "source": [
        "Используйте те же самые id в вашем ответе, что и в тестовом датасете. Загружаемый файл должен состоять из двух колонок: \"id_contract\" и \"TARGET\" (разделитель - \";\", кодировка - \"utf-8\"."
      ]
    },
    {
      "cell_type": "markdown",
      "metadata": {
        "id": "GTNOTnvvV7By"
      },
      "source": [
        "## Подготовка"
      ]
    },
    {
      "cell_type": "markdown",
      "metadata": {
        "id": "gmqsF7YibAff"
      },
      "source": [
        "### Установка библиотек"
      ]
    },
    {
      "cell_type": "code",
      "metadata": {
        "colab": {
          "base_uri": "https://localhost:8080/"
        },
        "id": "gkeSE3ZMH9RE",
        "outputId": "dfa2f433-06ce-4148-8fb2-bd537f38ad34"
      },
      "source": [
        "pip install catboost"
      ],
      "execution_count": null,
      "outputs": [
        {
          "output_type": "stream",
          "name": "stdout",
          "text": [
            "Requirement already satisfied: catboost in /usr/local/lib/python3.7/dist-packages (1.0.3)\n",
            "Requirement already satisfied: pandas>=0.24.0 in /usr/local/lib/python3.7/dist-packages (from catboost) (1.1.5)\n",
            "Requirement already satisfied: matplotlib in /usr/local/lib/python3.7/dist-packages (from catboost) (3.2.2)\n",
            "Requirement already satisfied: numpy>=1.16.0 in /usr/local/lib/python3.7/dist-packages (from catboost) (1.19.5)\n",
            "Requirement already satisfied: plotly in /usr/local/lib/python3.7/dist-packages (from catboost) (4.4.1)\n",
            "Requirement already satisfied: graphviz in /usr/local/lib/python3.7/dist-packages (from catboost) (0.10.1)\n",
            "Requirement already satisfied: six in /usr/local/lib/python3.7/dist-packages (from catboost) (1.15.0)\n",
            "Requirement already satisfied: scipy in /usr/local/lib/python3.7/dist-packages (from catboost) (1.4.1)\n",
            "Requirement already satisfied: pytz>=2017.2 in /usr/local/lib/python3.7/dist-packages (from pandas>=0.24.0->catboost) (2018.9)\n",
            "Requirement already satisfied: python-dateutil>=2.7.3 in /usr/local/lib/python3.7/dist-packages (from pandas>=0.24.0->catboost) (2.8.2)\n",
            "Requirement already satisfied: cycler>=0.10 in /usr/local/lib/python3.7/dist-packages (from matplotlib->catboost) (0.11.0)\n",
            "Requirement already satisfied: pyparsing!=2.0.4,!=2.1.2,!=2.1.6,>=2.0.1 in /usr/local/lib/python3.7/dist-packages (from matplotlib->catboost) (3.0.6)\n",
            "Requirement already satisfied: kiwisolver>=1.0.1 in /usr/local/lib/python3.7/dist-packages (from matplotlib->catboost) (1.3.2)\n",
            "Requirement already satisfied: retrying>=1.3.3 in /usr/local/lib/python3.7/dist-packages (from plotly->catboost) (1.3.3)\n"
          ]
        }
      ]
    },
    {
      "cell_type": "code",
      "metadata": {
        "id": "RGoJS4WeaEd_"
      },
      "source": [
        "import pandas as pd\n",
        "import matplotlib.pyplot as plt\n",
        "import numpy as np\n",
        "import datetime\n",
        "\n",
        "from sklearn.model_selection import train_test_split\n",
        "from sklearn.model_selection import GridSearchCV,RandomizedSearchCV\n",
        "\n",
        "from sklearn.preprocessing import OrdinalEncoder\n",
        "\n",
        "from sklearn.tree import DecisionTreeClassifier\n",
        "from catboost import CatBoostClassifier\n",
        "from sklearn.metrics import roc_auc_score\n",
        "from sklearn.ensemble import RandomForestClassifier,GradientBoostingClassifier\n",
        "from lightgbm import LGBMClassifier\n",
        "from sklearn.preprocessing import StandardScaler\n",
        "from sklearn.neural_network import MLPClassifier"
      ],
      "execution_count": null,
      "outputs": []
    },
    {
      "cell_type": "markdown",
      "metadata": {
        "id": "M4BqewgPcAAt"
      },
      "source": [
        "### Загрузка данных"
      ]
    },
    {
      "cell_type": "markdown",
      "metadata": {
        "id": "0r3SmgC6VeP9"
      },
      "source": [
        "Загрузка обучающей выборки"
      ]
    },
    {
      "cell_type": "code",
      "metadata": {
        "id": "1AKcsryaatgV"
      },
      "source": [
        "# encoding='cp1251', separator=';'\n",
        "data = pd.read_csv('/content/drive/MyDrive/Colab Notebooks/MKB_credit_risk/train_dataset_hackathon_mkb.csv',encoding='cp1251', sep=';')"
      ],
      "execution_count": null,
      "outputs": []
    },
    {
      "cell_type": "code",
      "metadata": {
        "colab": {
          "base_uri": "https://localhost:8080/",
          "height": 439
        },
        "id": "JgO5h5B4c75-",
        "outputId": "71cadce6-f3ea-47af-e865-47f3030b9781"
      },
      "source": [
        "data"
      ],
      "execution_count": null,
      "outputs": [
        {
          "output_type": "execute_result",
          "data": {
            "text/html": [
              "<div>\n",
              "<style scoped>\n",
              "    .dataframe tbody tr th:only-of-type {\n",
              "        vertical-align: middle;\n",
              "    }\n",
              "\n",
              "    .dataframe tbody tr th {\n",
              "        vertical-align: top;\n",
              "    }\n",
              "\n",
              "    .dataframe thead th {\n",
              "        text-align: right;\n",
              "    }\n",
              "</style>\n",
              "<table border=\"1\" class=\"dataframe\">\n",
              "  <thead>\n",
              "    <tr style=\"text-align: right;\">\n",
              "      <th></th>\n",
              "      <th>id_contract</th>\n",
              "      <th>id_client</th>\n",
              "      <th>SIGN_DATE</th>\n",
              "      <th>IP_flag</th>\n",
              "      <th>TARGET</th>\n",
              "      <th>F1100</th>\n",
              "      <th>F1110</th>\n",
              "      <th>F1150</th>\n",
              "      <th>F1160</th>\n",
              "      <th>F1170</th>\n",
              "      <th>F1180</th>\n",
              "      <th>F1190</th>\n",
              "      <th>F1200</th>\n",
              "      <th>F1210</th>\n",
              "      <th>F1220</th>\n",
              "      <th>F1230</th>\n",
              "      <th>F1240</th>\n",
              "      <th>F1250</th>\n",
              "      <th>F1260</th>\n",
              "      <th>F1300</th>\n",
              "      <th>F1310</th>\n",
              "      <th>F1320</th>\n",
              "      <th>F1350</th>\n",
              "      <th>F1360</th>\n",
              "      <th>F1370</th>\n",
              "      <th>F1400</th>\n",
              "      <th>F1410</th>\n",
              "      <th>F1420</th>\n",
              "      <th>F1450</th>\n",
              "      <th>F1500</th>\n",
              "      <th>F1510</th>\n",
              "      <th>F1520</th>\n",
              "      <th>F1530</th>\n",
              "      <th>F1550</th>\n",
              "      <th>F1600</th>\n",
              "      <th>F1700</th>\n",
              "      <th>F2100</th>\n",
              "      <th>F2110</th>\n",
              "      <th>F2120</th>\n",
              "      <th>F2200</th>\n",
              "      <th>...</th>\n",
              "      <th>MANAGERCOUNTINREGION</th>\n",
              "      <th>MANAGERINNCOUNT</th>\n",
              "      <th>OKVED_CODE</th>\n",
              "      <th>PLAINTIFF_CASESNUMBER_YEAR</th>\n",
              "      <th>PLAINTIFF_SUM_YEAR</th>\n",
              "      <th>DEFENDANT_CASESNUMBER_YEAR</th>\n",
              "      <th>DEFENDANT_SUM_YEAR</th>\n",
              "      <th>THIRDOROTHERPERSON_YEAR</th>\n",
              "      <th>PLAINTIFF_CASESNUMBER_EVER</th>\n",
              "      <th>PLAINTIFF_SUM_EVER</th>\n",
              "      <th>DEFENDANT_CASESNUMBER_EVER</th>\n",
              "      <th>DEFENDANT_SUM_EVER</th>\n",
              "      <th>THIRDOROTHERPERSON_EVER</th>\n",
              "      <th>ADMITTEDNUMBER_233_YEAR</th>\n",
              "      <th>NOTADMITTEDNUMBER_233_YEAR</th>\n",
              "      <th>WINNERNUMBER_233_YEAR</th>\n",
              "      <th>SIGNEDNUMBER_233_YEAR</th>\n",
              "      <th>SUM_233_YEAR</th>\n",
              "      <th>ADMITTEDNUMBER_233_EVER</th>\n",
              "      <th>NOTADMITTEDNUMBER_233_EVER</th>\n",
              "      <th>WINNERNUMBER_233_EVER</th>\n",
              "      <th>SIGNEDNUMBER_233_EVER</th>\n",
              "      <th>SUM_233_EVER</th>\n",
              "      <th>ADMITTEDNUMBER_95_YEAR</th>\n",
              "      <th>NOTADMITTEDNUMBER_95_YEAR</th>\n",
              "      <th>WINNERNUMBER_95_YEAR</th>\n",
              "      <th>SIGNEDNUMBER_95_YEAR</th>\n",
              "      <th>SUM_95_YEAR</th>\n",
              "      <th>ADMITTEDNUMBER_95_EVER</th>\n",
              "      <th>NOTADMITTEDNUMBER_EVER</th>\n",
              "      <th>WINNERNUMBER_95_EVER</th>\n",
              "      <th>SIGNEDNUMBER_95_EVER</th>\n",
              "      <th>SUM_95_EVER</th>\n",
              "      <th>FLAG_DISQUALIFICATION</th>\n",
              "      <th>COUNT_CHANGE_YEAR</th>\n",
              "      <th>COUNT_CHANGE_EVER</th>\n",
              "      <th>BIRTHDATE</th>\n",
              "      <th>AGE</th>\n",
              "      <th>SEX_NAME</th>\n",
              "      <th>CITIZENSHIP_NAME</th>\n",
              "    </tr>\n",
              "  </thead>\n",
              "  <tbody>\n",
              "    <tr>\n",
              "      <th>0</th>\n",
              "      <td>1</td>\n",
              "      <td>1847</td>\n",
              "      <td>01JAN2018:00:00:00</td>\n",
              "      <td>0</td>\n",
              "      <td>0</td>\n",
              "      <td>1.298961e+09</td>\n",
              "      <td>2154000.0</td>\n",
              "      <td>1.125573e+09</td>\n",
              "      <td>NaN</td>\n",
              "      <td>150010000.0</td>\n",
              "      <td>NaN</td>\n",
              "      <td>21224000.0</td>\n",
              "      <td>1.048287e+10</td>\n",
              "      <td>105901000.0</td>\n",
              "      <td>127510000.0</td>\n",
              "      <td>9.477348e+09</td>\n",
              "      <td>440671000.0</td>\n",
              "      <td>3.312980e+08</td>\n",
              "      <td>138000.0</td>\n",
              "      <td>1.960896e+09</td>\n",
              "      <td>1.000700e+07</td>\n",
              "      <td>-46634000.0</td>\n",
              "      <td>599497000.0</td>\n",
              "      <td>500000.0</td>\n",
              "      <td>1.028878e+09</td>\n",
              "      <td>340135000.0</td>\n",
              "      <td>NaN</td>\n",
              "      <td>340135000.0</td>\n",
              "      <td>NaN</td>\n",
              "      <td>9.480796e+09</td>\n",
              "      <td>2.499973e+09</td>\n",
              "      <td>6.907960e+09</td>\n",
              "      <td>NaN</td>\n",
              "      <td>NaN</td>\n",
              "      <td>1.178183e+10</td>\n",
              "      <td>1.178183e+10</td>\n",
              "      <td>2.370882e+09</td>\n",
              "      <td>5.294104e+10</td>\n",
              "      <td>5.057016e+10</td>\n",
              "      <td>631752000.0</td>\n",
              "      <td>...</td>\n",
              "      <td>0.0</td>\n",
              "      <td>0.0</td>\n",
              "      <td>35.14</td>\n",
              "      <td>NaN</td>\n",
              "      <td>NaN</td>\n",
              "      <td>NaN</td>\n",
              "      <td>NaN</td>\n",
              "      <td>NaN</td>\n",
              "      <td>NaN</td>\n",
              "      <td>NaN</td>\n",
              "      <td>NaN</td>\n",
              "      <td>NaN</td>\n",
              "      <td>NaN</td>\n",
              "      <td>NaN</td>\n",
              "      <td>NaN</td>\n",
              "      <td>NaN</td>\n",
              "      <td>NaN</td>\n",
              "      <td>NaN</td>\n",
              "      <td>NaN</td>\n",
              "      <td>NaN</td>\n",
              "      <td>NaN</td>\n",
              "      <td>NaN</td>\n",
              "      <td>NaN</td>\n",
              "      <td>NaN</td>\n",
              "      <td>NaN</td>\n",
              "      <td>NaN</td>\n",
              "      <td>NaN</td>\n",
              "      <td>NaN</td>\n",
              "      <td>NaN</td>\n",
              "      <td>NaN</td>\n",
              "      <td>NaN</td>\n",
              "      <td>NaN</td>\n",
              "      <td>NaN</td>\n",
              "      <td>NaN</td>\n",
              "      <td>NaN</td>\n",
              "      <td>NaN</td>\n",
              "      <td>NaN</td>\n",
              "      <td>NaN</td>\n",
              "      <td>NaN</td>\n",
              "      <td>NaN</td>\n",
              "    </tr>\n",
              "    <tr>\n",
              "      <th>1</th>\n",
              "      <td>2</td>\n",
              "      <td>4650</td>\n",
              "      <td>01JAN2018:00:00:00</td>\n",
              "      <td>1</td>\n",
              "      <td>0</td>\n",
              "      <td>NaN</td>\n",
              "      <td>NaN</td>\n",
              "      <td>NaN</td>\n",
              "      <td>NaN</td>\n",
              "      <td>NaN</td>\n",
              "      <td>NaN</td>\n",
              "      <td>NaN</td>\n",
              "      <td>NaN</td>\n",
              "      <td>NaN</td>\n",
              "      <td>NaN</td>\n",
              "      <td>NaN</td>\n",
              "      <td>NaN</td>\n",
              "      <td>NaN</td>\n",
              "      <td>NaN</td>\n",
              "      <td>NaN</td>\n",
              "      <td>NaN</td>\n",
              "      <td>NaN</td>\n",
              "      <td>NaN</td>\n",
              "      <td>NaN</td>\n",
              "      <td>NaN</td>\n",
              "      <td>NaN</td>\n",
              "      <td>NaN</td>\n",
              "      <td>NaN</td>\n",
              "      <td>NaN</td>\n",
              "      <td>NaN</td>\n",
              "      <td>NaN</td>\n",
              "      <td>NaN</td>\n",
              "      <td>NaN</td>\n",
              "      <td>NaN</td>\n",
              "      <td>NaN</td>\n",
              "      <td>NaN</td>\n",
              "      <td>NaN</td>\n",
              "      <td>NaN</td>\n",
              "      <td>NaN</td>\n",
              "      <td>NaN</td>\n",
              "      <td>...</td>\n",
              "      <td>NaN</td>\n",
              "      <td>NaN</td>\n",
              "      <td>NaN</td>\n",
              "      <td>NaN</td>\n",
              "      <td>NaN</td>\n",
              "      <td>NaN</td>\n",
              "      <td>NaN</td>\n",
              "      <td>NaN</td>\n",
              "      <td>NaN</td>\n",
              "      <td>NaN</td>\n",
              "      <td>NaN</td>\n",
              "      <td>NaN</td>\n",
              "      <td>NaN</td>\n",
              "      <td>NaN</td>\n",
              "      <td>NaN</td>\n",
              "      <td>NaN</td>\n",
              "      <td>NaN</td>\n",
              "      <td>NaN</td>\n",
              "      <td>NaN</td>\n",
              "      <td>NaN</td>\n",
              "      <td>NaN</td>\n",
              "      <td>NaN</td>\n",
              "      <td>NaN</td>\n",
              "      <td>NaN</td>\n",
              "      <td>NaN</td>\n",
              "      <td>NaN</td>\n",
              "      <td>NaN</td>\n",
              "      <td>NaN</td>\n",
              "      <td>NaN</td>\n",
              "      <td>NaN</td>\n",
              "      <td>NaN</td>\n",
              "      <td>NaN</td>\n",
              "      <td>NaN</td>\n",
              "      <td>NaN</td>\n",
              "      <td>NaN</td>\n",
              "      <td>NaN</td>\n",
              "      <td>NaN</td>\n",
              "      <td>NaN</td>\n",
              "      <td>NaN</td>\n",
              "      <td>NaN</td>\n",
              "    </tr>\n",
              "    <tr>\n",
              "      <th>2</th>\n",
              "      <td>3</td>\n",
              "      <td>4770</td>\n",
              "      <td>01JAN2018:00:00:00</td>\n",
              "      <td>0</td>\n",
              "      <td>0</td>\n",
              "      <td>7.337400e+07</td>\n",
              "      <td>NaN</td>\n",
              "      <td>7.337400e+07</td>\n",
              "      <td>NaN</td>\n",
              "      <td>NaN</td>\n",
              "      <td>NaN</td>\n",
              "      <td>NaN</td>\n",
              "      <td>2.161000e+07</td>\n",
              "      <td>2378000.0</td>\n",
              "      <td>NaN</td>\n",
              "      <td>1.764200e+07</td>\n",
              "      <td>1000000.0</td>\n",
              "      <td>5.530000e+05</td>\n",
              "      <td>37000.0</td>\n",
              "      <td>9.073600e+07</td>\n",
              "      <td>1.000000e+05</td>\n",
              "      <td>NaN</td>\n",
              "      <td>6780000.0</td>\n",
              "      <td>NaN</td>\n",
              "      <td>8.385600e+07</td>\n",
              "      <td>NaN</td>\n",
              "      <td>NaN</td>\n",
              "      <td>NaN</td>\n",
              "      <td>NaN</td>\n",
              "      <td>4.248000e+06</td>\n",
              "      <td>NaN</td>\n",
              "      <td>4.171000e+06</td>\n",
              "      <td>77000.0</td>\n",
              "      <td>NaN</td>\n",
              "      <td>9.498400e+07</td>\n",
              "      <td>9.498400e+07</td>\n",
              "      <td>9.315000e+06</td>\n",
              "      <td>5.218400e+07</td>\n",
              "      <td>4.286900e+07</td>\n",
              "      <td>2569000.0</td>\n",
              "      <td>...</td>\n",
              "      <td>1.0</td>\n",
              "      <td>1.0</td>\n",
              "      <td>36.00.2</td>\n",
              "      <td>6.0</td>\n",
              "      <td>2762852.0</td>\n",
              "      <td>1.0</td>\n",
              "      <td>794.0</td>\n",
              "      <td>3.0</td>\n",
              "      <td>21.0</td>\n",
              "      <td>5408695.0</td>\n",
              "      <td>39.0</td>\n",
              "      <td>882647.0</td>\n",
              "      <td>4.0</td>\n",
              "      <td>1.0</td>\n",
              "      <td>0.0</td>\n",
              "      <td>1.0</td>\n",
              "      <td>1.0</td>\n",
              "      <td>1174998.0</td>\n",
              "      <td>2.0</td>\n",
              "      <td>0.0</td>\n",
              "      <td>2.0</td>\n",
              "      <td>2.0</td>\n",
              "      <td>2738217.0</td>\n",
              "      <td>38.0</td>\n",
              "      <td>0.0</td>\n",
              "      <td>38.0</td>\n",
              "      <td>39.0</td>\n",
              "      <td>4209963.0</td>\n",
              "      <td>169.0</td>\n",
              "      <td>0.0</td>\n",
              "      <td>169.0</td>\n",
              "      <td>168.0</td>\n",
              "      <td>18351739.0</td>\n",
              "      <td>NaN</td>\n",
              "      <td>NaN</td>\n",
              "      <td>1.0</td>\n",
              "      <td>NaN</td>\n",
              "      <td>NaN</td>\n",
              "      <td>NaN</td>\n",
              "      <td>NaN</td>\n",
              "    </tr>\n",
              "    <tr>\n",
              "      <th>3</th>\n",
              "      <td>4</td>\n",
              "      <td>12237</td>\n",
              "      <td>01JAN2018:00:00:00</td>\n",
              "      <td>0</td>\n",
              "      <td>0</td>\n",
              "      <td>1.937488e+09</td>\n",
              "      <td>122828000.0</td>\n",
              "      <td>6.103280e+08</td>\n",
              "      <td>NaN</td>\n",
              "      <td>809426000.0</td>\n",
              "      <td>356828000.0</td>\n",
              "      <td>38078000.0</td>\n",
              "      <td>5.786965e+09</td>\n",
              "      <td>12001000.0</td>\n",
              "      <td>71000.0</td>\n",
              "      <td>1.232486e+09</td>\n",
              "      <td>78603000.0</td>\n",
              "      <td>4.459193e+09</td>\n",
              "      <td>4611000.0</td>\n",
              "      <td>2.685905e+09</td>\n",
              "      <td>1.516514e+09</td>\n",
              "      <td>NaN</td>\n",
              "      <td>NaN</td>\n",
              "      <td>65834000.0</td>\n",
              "      <td>1.103557e+09</td>\n",
              "      <td>627253000.0</td>\n",
              "      <td>NaN</td>\n",
              "      <td>689000.0</td>\n",
              "      <td>626564000.0</td>\n",
              "      <td>4.411295e+09</td>\n",
              "      <td>3.930000e+05</td>\n",
              "      <td>3.092581e+09</td>\n",
              "      <td>NaN</td>\n",
              "      <td>NaN</td>\n",
              "      <td>7.724453e+09</td>\n",
              "      <td>7.724453e+09</td>\n",
              "      <td>1.694054e+10</td>\n",
              "      <td>4.028466e+10</td>\n",
              "      <td>2.334412e+10</td>\n",
              "      <td>931118000.0</td>\n",
              "      <td>...</td>\n",
              "      <td>1.0</td>\n",
              "      <td>1.0</td>\n",
              "      <td>35.14</td>\n",
              "      <td>NaN</td>\n",
              "      <td>NaN</td>\n",
              "      <td>NaN</td>\n",
              "      <td>NaN</td>\n",
              "      <td>NaN</td>\n",
              "      <td>NaN</td>\n",
              "      <td>NaN</td>\n",
              "      <td>NaN</td>\n",
              "      <td>NaN</td>\n",
              "      <td>NaN</td>\n",
              "      <td>NaN</td>\n",
              "      <td>NaN</td>\n",
              "      <td>NaN</td>\n",
              "      <td>NaN</td>\n",
              "      <td>NaN</td>\n",
              "      <td>NaN</td>\n",
              "      <td>NaN</td>\n",
              "      <td>NaN</td>\n",
              "      <td>NaN</td>\n",
              "      <td>NaN</td>\n",
              "      <td>NaN</td>\n",
              "      <td>NaN</td>\n",
              "      <td>NaN</td>\n",
              "      <td>NaN</td>\n",
              "      <td>NaN</td>\n",
              "      <td>NaN</td>\n",
              "      <td>NaN</td>\n",
              "      <td>NaN</td>\n",
              "      <td>NaN</td>\n",
              "      <td>NaN</td>\n",
              "      <td>NaN</td>\n",
              "      <td>NaN</td>\n",
              "      <td>NaN</td>\n",
              "      <td>NaN</td>\n",
              "      <td>NaN</td>\n",
              "      <td>NaN</td>\n",
              "      <td>NaN</td>\n",
              "    </tr>\n",
              "    <tr>\n",
              "      <th>4</th>\n",
              "      <td>5</td>\n",
              "      <td>9988</td>\n",
              "      <td>01JAN2018:00:00:00</td>\n",
              "      <td>1</td>\n",
              "      <td>0</td>\n",
              "      <td>NaN</td>\n",
              "      <td>NaN</td>\n",
              "      <td>NaN</td>\n",
              "      <td>NaN</td>\n",
              "      <td>NaN</td>\n",
              "      <td>NaN</td>\n",
              "      <td>NaN</td>\n",
              "      <td>NaN</td>\n",
              "      <td>NaN</td>\n",
              "      <td>NaN</td>\n",
              "      <td>NaN</td>\n",
              "      <td>NaN</td>\n",
              "      <td>NaN</td>\n",
              "      <td>NaN</td>\n",
              "      <td>NaN</td>\n",
              "      <td>NaN</td>\n",
              "      <td>NaN</td>\n",
              "      <td>NaN</td>\n",
              "      <td>NaN</td>\n",
              "      <td>NaN</td>\n",
              "      <td>NaN</td>\n",
              "      <td>NaN</td>\n",
              "      <td>NaN</td>\n",
              "      <td>NaN</td>\n",
              "      <td>NaN</td>\n",
              "      <td>NaN</td>\n",
              "      <td>NaN</td>\n",
              "      <td>NaN</td>\n",
              "      <td>NaN</td>\n",
              "      <td>NaN</td>\n",
              "      <td>NaN</td>\n",
              "      <td>NaN</td>\n",
              "      <td>NaN</td>\n",
              "      <td>NaN</td>\n",
              "      <td>NaN</td>\n",
              "      <td>...</td>\n",
              "      <td>NaN</td>\n",
              "      <td>NaN</td>\n",
              "      <td>NaN</td>\n",
              "      <td>NaN</td>\n",
              "      <td>NaN</td>\n",
              "      <td>NaN</td>\n",
              "      <td>NaN</td>\n",
              "      <td>NaN</td>\n",
              "      <td>NaN</td>\n",
              "      <td>NaN</td>\n",
              "      <td>NaN</td>\n",
              "      <td>NaN</td>\n",
              "      <td>NaN</td>\n",
              "      <td>NaN</td>\n",
              "      <td>NaN</td>\n",
              "      <td>NaN</td>\n",
              "      <td>NaN</td>\n",
              "      <td>NaN</td>\n",
              "      <td>NaN</td>\n",
              "      <td>NaN</td>\n",
              "      <td>NaN</td>\n",
              "      <td>NaN</td>\n",
              "      <td>NaN</td>\n",
              "      <td>NaN</td>\n",
              "      <td>NaN</td>\n",
              "      <td>NaN</td>\n",
              "      <td>NaN</td>\n",
              "      <td>NaN</td>\n",
              "      <td>NaN</td>\n",
              "      <td>NaN</td>\n",
              "      <td>NaN</td>\n",
              "      <td>NaN</td>\n",
              "      <td>NaN</td>\n",
              "      <td>NaN</td>\n",
              "      <td>NaN</td>\n",
              "      <td>NaN</td>\n",
              "      <td>NaN</td>\n",
              "      <td>NaN</td>\n",
              "      <td>NaN</td>\n",
              "      <td>NaN</td>\n",
              "    </tr>\n",
              "    <tr>\n",
              "      <th>...</th>\n",
              "      <td>...</td>\n",
              "      <td>...</td>\n",
              "      <td>...</td>\n",
              "      <td>...</td>\n",
              "      <td>...</td>\n",
              "      <td>...</td>\n",
              "      <td>...</td>\n",
              "      <td>...</td>\n",
              "      <td>...</td>\n",
              "      <td>...</td>\n",
              "      <td>...</td>\n",
              "      <td>...</td>\n",
              "      <td>...</td>\n",
              "      <td>...</td>\n",
              "      <td>...</td>\n",
              "      <td>...</td>\n",
              "      <td>...</td>\n",
              "      <td>...</td>\n",
              "      <td>...</td>\n",
              "      <td>...</td>\n",
              "      <td>...</td>\n",
              "      <td>...</td>\n",
              "      <td>...</td>\n",
              "      <td>...</td>\n",
              "      <td>...</td>\n",
              "      <td>...</td>\n",
              "      <td>...</td>\n",
              "      <td>...</td>\n",
              "      <td>...</td>\n",
              "      <td>...</td>\n",
              "      <td>...</td>\n",
              "      <td>...</td>\n",
              "      <td>...</td>\n",
              "      <td>...</td>\n",
              "      <td>...</td>\n",
              "      <td>...</td>\n",
              "      <td>...</td>\n",
              "      <td>...</td>\n",
              "      <td>...</td>\n",
              "      <td>...</td>\n",
              "      <td>...</td>\n",
              "      <td>...</td>\n",
              "      <td>...</td>\n",
              "      <td>...</td>\n",
              "      <td>...</td>\n",
              "      <td>...</td>\n",
              "      <td>...</td>\n",
              "      <td>...</td>\n",
              "      <td>...</td>\n",
              "      <td>...</td>\n",
              "      <td>...</td>\n",
              "      <td>...</td>\n",
              "      <td>...</td>\n",
              "      <td>...</td>\n",
              "      <td>...</td>\n",
              "      <td>...</td>\n",
              "      <td>...</td>\n",
              "      <td>...</td>\n",
              "      <td>...</td>\n",
              "      <td>...</td>\n",
              "      <td>...</td>\n",
              "      <td>...</td>\n",
              "      <td>...</td>\n",
              "      <td>...</td>\n",
              "      <td>...</td>\n",
              "      <td>...</td>\n",
              "      <td>...</td>\n",
              "      <td>...</td>\n",
              "      <td>...</td>\n",
              "      <td>...</td>\n",
              "      <td>...</td>\n",
              "      <td>...</td>\n",
              "      <td>...</td>\n",
              "      <td>...</td>\n",
              "      <td>...</td>\n",
              "      <td>...</td>\n",
              "      <td>...</td>\n",
              "      <td>...</td>\n",
              "      <td>...</td>\n",
              "      <td>...</td>\n",
              "      <td>...</td>\n",
              "    </tr>\n",
              "    <tr>\n",
              "      <th>17886</th>\n",
              "      <td>17887</td>\n",
              "      <td>3439</td>\n",
              "      <td>07APR2019:00:00:00</td>\n",
              "      <td>0</td>\n",
              "      <td>0</td>\n",
              "      <td>5.404500e+07</td>\n",
              "      <td>NaN</td>\n",
              "      <td>5.404500e+07</td>\n",
              "      <td>NaN</td>\n",
              "      <td>NaN</td>\n",
              "      <td>NaN</td>\n",
              "      <td>NaN</td>\n",
              "      <td>2.810200e+07</td>\n",
              "      <td>158000.0</td>\n",
              "      <td>NaN</td>\n",
              "      <td>2.550500e+07</td>\n",
              "      <td>NaN</td>\n",
              "      <td>2.439000e+06</td>\n",
              "      <td>NaN</td>\n",
              "      <td>7.192800e+07</td>\n",
              "      <td>1.281000e+06</td>\n",
              "      <td>NaN</td>\n",
              "      <td>61939000.0</td>\n",
              "      <td>1449000.0</td>\n",
              "      <td>7.259000e+06</td>\n",
              "      <td>NaN</td>\n",
              "      <td>NaN</td>\n",
              "      <td>NaN</td>\n",
              "      <td>NaN</td>\n",
              "      <td>1.021900e+07</td>\n",
              "      <td>NaN</td>\n",
              "      <td>2.684000e+06</td>\n",
              "      <td>4876000.0</td>\n",
              "      <td>NaN</td>\n",
              "      <td>8.214700e+07</td>\n",
              "      <td>8.214700e+07</td>\n",
              "      <td>5.789000e+06</td>\n",
              "      <td>5.782800e+07</td>\n",
              "      <td>5.203900e+07</td>\n",
              "      <td>5789000.0</td>\n",
              "      <td>...</td>\n",
              "      <td>1.0</td>\n",
              "      <td>1.0</td>\n",
              "      <td>36.00.2</td>\n",
              "      <td>1.0</td>\n",
              "      <td>10073.0</td>\n",
              "      <td>2.0</td>\n",
              "      <td>239024.0</td>\n",
              "      <td>0.0</td>\n",
              "      <td>3.0</td>\n",
              "      <td>131841.0</td>\n",
              "      <td>3.0</td>\n",
              "      <td>239024.0</td>\n",
              "      <td>2.0</td>\n",
              "      <td>1.0</td>\n",
              "      <td>0.0</td>\n",
              "      <td>1.0</td>\n",
              "      <td>1.0</td>\n",
              "      <td>865277.0</td>\n",
              "      <td>3.0</td>\n",
              "      <td>0.0</td>\n",
              "      <td>3.0</td>\n",
              "      <td>3.0</td>\n",
              "      <td>1827610.0</td>\n",
              "      <td>59.0</td>\n",
              "      <td>0.0</td>\n",
              "      <td>59.0</td>\n",
              "      <td>60.0</td>\n",
              "      <td>3939809.0</td>\n",
              "      <td>429.0</td>\n",
              "      <td>3.0</td>\n",
              "      <td>382.0</td>\n",
              "      <td>381.0</td>\n",
              "      <td>45954226.0</td>\n",
              "      <td>NaN</td>\n",
              "      <td>NaN</td>\n",
              "      <td>1.0</td>\n",
              "      <td>NaN</td>\n",
              "      <td>NaN</td>\n",
              "      <td>NaN</td>\n",
              "      <td>NaN</td>\n",
              "    </tr>\n",
              "    <tr>\n",
              "      <th>17887</th>\n",
              "      <td>17888</td>\n",
              "      <td>838</td>\n",
              "      <td>08APR2019:00:00:00</td>\n",
              "      <td>0</td>\n",
              "      <td>0</td>\n",
              "      <td>NaN</td>\n",
              "      <td>NaN</td>\n",
              "      <td>NaN</td>\n",
              "      <td>NaN</td>\n",
              "      <td>NaN</td>\n",
              "      <td>NaN</td>\n",
              "      <td>NaN</td>\n",
              "      <td>NaN</td>\n",
              "      <td>NaN</td>\n",
              "      <td>NaN</td>\n",
              "      <td>NaN</td>\n",
              "      <td>NaN</td>\n",
              "      <td>NaN</td>\n",
              "      <td>NaN</td>\n",
              "      <td>NaN</td>\n",
              "      <td>NaN</td>\n",
              "      <td>NaN</td>\n",
              "      <td>NaN</td>\n",
              "      <td>NaN</td>\n",
              "      <td>NaN</td>\n",
              "      <td>NaN</td>\n",
              "      <td>NaN</td>\n",
              "      <td>NaN</td>\n",
              "      <td>NaN</td>\n",
              "      <td>NaN</td>\n",
              "      <td>NaN</td>\n",
              "      <td>NaN</td>\n",
              "      <td>NaN</td>\n",
              "      <td>NaN</td>\n",
              "      <td>NaN</td>\n",
              "      <td>NaN</td>\n",
              "      <td>NaN</td>\n",
              "      <td>NaN</td>\n",
              "      <td>NaN</td>\n",
              "      <td>NaN</td>\n",
              "      <td>...</td>\n",
              "      <td>1.0</td>\n",
              "      <td>1.0</td>\n",
              "      <td>86.10</td>\n",
              "      <td>21.0</td>\n",
              "      <td>3066180.0</td>\n",
              "      <td>12.0</td>\n",
              "      <td>16814838.0</td>\n",
              "      <td>0.0</td>\n",
              "      <td>70.0</td>\n",
              "      <td>39428911.0</td>\n",
              "      <td>24.0</td>\n",
              "      <td>55269851.0</td>\n",
              "      <td>7.0</td>\n",
              "      <td>4.0</td>\n",
              "      <td>0.0</td>\n",
              "      <td>3.0</td>\n",
              "      <td>3.0</td>\n",
              "      <td>3649400.0</td>\n",
              "      <td>7.0</td>\n",
              "      <td>0.0</td>\n",
              "      <td>6.0</td>\n",
              "      <td>6.0</td>\n",
              "      <td>6691000.0</td>\n",
              "      <td>44.0</td>\n",
              "      <td>0.0</td>\n",
              "      <td>37.0</td>\n",
              "      <td>36.0</td>\n",
              "      <td>35569661.0</td>\n",
              "      <td>240.0</td>\n",
              "      <td>6.0</td>\n",
              "      <td>193.0</td>\n",
              "      <td>184.0</td>\n",
              "      <td>134417510.0</td>\n",
              "      <td>NaN</td>\n",
              "      <td>NaN</td>\n",
              "      <td>5.0</td>\n",
              "      <td>NaN</td>\n",
              "      <td>NaN</td>\n",
              "      <td>NaN</td>\n",
              "      <td>NaN</td>\n",
              "    </tr>\n",
              "    <tr>\n",
              "      <th>17888</th>\n",
              "      <td>17889</td>\n",
              "      <td>10537</td>\n",
              "      <td>08APR2019:00:00:00</td>\n",
              "      <td>0</td>\n",
              "      <td>0</td>\n",
              "      <td>NaN</td>\n",
              "      <td>NaN</td>\n",
              "      <td>NaN</td>\n",
              "      <td>NaN</td>\n",
              "      <td>NaN</td>\n",
              "      <td>NaN</td>\n",
              "      <td>NaN</td>\n",
              "      <td>3.098000e+06</td>\n",
              "      <td>NaN</td>\n",
              "      <td>NaN</td>\n",
              "      <td>2.158000e+06</td>\n",
              "      <td>NaN</td>\n",
              "      <td>9.400000e+05</td>\n",
              "      <td>NaN</td>\n",
              "      <td>3.150000e+05</td>\n",
              "      <td>1.000000e+04</td>\n",
              "      <td>NaN</td>\n",
              "      <td>NaN</td>\n",
              "      <td>NaN</td>\n",
              "      <td>3.050000e+05</td>\n",
              "      <td>NaN</td>\n",
              "      <td>NaN</td>\n",
              "      <td>NaN</td>\n",
              "      <td>NaN</td>\n",
              "      <td>2.783000e+06</td>\n",
              "      <td>NaN</td>\n",
              "      <td>2.759000e+06</td>\n",
              "      <td>NaN</td>\n",
              "      <td>NaN</td>\n",
              "      <td>3.098000e+06</td>\n",
              "      <td>3.098000e+06</td>\n",
              "      <td>2.523000e+06</td>\n",
              "      <td>2.657900e+07</td>\n",
              "      <td>2.405600e+07</td>\n",
              "      <td>436000.0</td>\n",
              "      <td>...</td>\n",
              "      <td>1.0</td>\n",
              "      <td>1.0</td>\n",
              "      <td>46.46</td>\n",
              "      <td>NaN</td>\n",
              "      <td>NaN</td>\n",
              "      <td>NaN</td>\n",
              "      <td>NaN</td>\n",
              "      <td>NaN</td>\n",
              "      <td>NaN</td>\n",
              "      <td>NaN</td>\n",
              "      <td>NaN</td>\n",
              "      <td>NaN</td>\n",
              "      <td>NaN</td>\n",
              "      <td>NaN</td>\n",
              "      <td>NaN</td>\n",
              "      <td>NaN</td>\n",
              "      <td>NaN</td>\n",
              "      <td>NaN</td>\n",
              "      <td>NaN</td>\n",
              "      <td>NaN</td>\n",
              "      <td>NaN</td>\n",
              "      <td>NaN</td>\n",
              "      <td>NaN</td>\n",
              "      <td>NaN</td>\n",
              "      <td>NaN</td>\n",
              "      <td>NaN</td>\n",
              "      <td>NaN</td>\n",
              "      <td>NaN</td>\n",
              "      <td>NaN</td>\n",
              "      <td>NaN</td>\n",
              "      <td>NaN</td>\n",
              "      <td>NaN</td>\n",
              "      <td>NaN</td>\n",
              "      <td>NaN</td>\n",
              "      <td>NaN</td>\n",
              "      <td>NaN</td>\n",
              "      <td>NaN</td>\n",
              "      <td>NaN</td>\n",
              "      <td>NaN</td>\n",
              "      <td>NaN</td>\n",
              "    </tr>\n",
              "    <tr>\n",
              "      <th>17889</th>\n",
              "      <td>17890</td>\n",
              "      <td>1751</td>\n",
              "      <td>08APR2019:00:00:00</td>\n",
              "      <td>0</td>\n",
              "      <td>1</td>\n",
              "      <td>NaN</td>\n",
              "      <td>NaN</td>\n",
              "      <td>NaN</td>\n",
              "      <td>NaN</td>\n",
              "      <td>NaN</td>\n",
              "      <td>NaN</td>\n",
              "      <td>NaN</td>\n",
              "      <td>2.559900e+07</td>\n",
              "      <td>15147000.0</td>\n",
              "      <td>NaN</td>\n",
              "      <td>7.839000e+06</td>\n",
              "      <td>NaN</td>\n",
              "      <td>2.613000e+06</td>\n",
              "      <td>NaN</td>\n",
              "      <td>3.080000e+05</td>\n",
              "      <td>NaN</td>\n",
              "      <td>NaN</td>\n",
              "      <td>NaN</td>\n",
              "      <td>NaN</td>\n",
              "      <td>NaN</td>\n",
              "      <td>NaN</td>\n",
              "      <td>NaN</td>\n",
              "      <td>NaN</td>\n",
              "      <td>NaN</td>\n",
              "      <td>2.529100e+07</td>\n",
              "      <td>NaN</td>\n",
              "      <td>2.529100e+07</td>\n",
              "      <td>NaN</td>\n",
              "      <td>NaN</td>\n",
              "      <td>2.559900e+07</td>\n",
              "      <td>2.559900e+07</td>\n",
              "      <td>NaN</td>\n",
              "      <td>6.862900e+07</td>\n",
              "      <td>6.810600e+07</td>\n",
              "      <td>523000.0</td>\n",
              "      <td>...</td>\n",
              "      <td>2.0</td>\n",
              "      <td>2.0</td>\n",
              "      <td>46.69.9</td>\n",
              "      <td>NaN</td>\n",
              "      <td>NaN</td>\n",
              "      <td>NaN</td>\n",
              "      <td>NaN</td>\n",
              "      <td>NaN</td>\n",
              "      <td>NaN</td>\n",
              "      <td>NaN</td>\n",
              "      <td>NaN</td>\n",
              "      <td>NaN</td>\n",
              "      <td>NaN</td>\n",
              "      <td>NaN</td>\n",
              "      <td>NaN</td>\n",
              "      <td>NaN</td>\n",
              "      <td>NaN</td>\n",
              "      <td>NaN</td>\n",
              "      <td>NaN</td>\n",
              "      <td>NaN</td>\n",
              "      <td>NaN</td>\n",
              "      <td>NaN</td>\n",
              "      <td>NaN</td>\n",
              "      <td>NaN</td>\n",
              "      <td>NaN</td>\n",
              "      <td>NaN</td>\n",
              "      <td>NaN</td>\n",
              "      <td>NaN</td>\n",
              "      <td>NaN</td>\n",
              "      <td>NaN</td>\n",
              "      <td>NaN</td>\n",
              "      <td>NaN</td>\n",
              "      <td>NaN</td>\n",
              "      <td>NaN</td>\n",
              "      <td>NaN</td>\n",
              "      <td>NaN</td>\n",
              "      <td>NaN</td>\n",
              "      <td>NaN</td>\n",
              "      <td>NaN</td>\n",
              "      <td>NaN</td>\n",
              "    </tr>\n",
              "    <tr>\n",
              "      <th>17890</th>\n",
              "      <td>17891</td>\n",
              "      <td>3095</td>\n",
              "      <td>08APR2019:00:00:00</td>\n",
              "      <td>0</td>\n",
              "      <td>0</td>\n",
              "      <td>NaN</td>\n",
              "      <td>NaN</td>\n",
              "      <td>NaN</td>\n",
              "      <td>NaN</td>\n",
              "      <td>NaN</td>\n",
              "      <td>NaN</td>\n",
              "      <td>NaN</td>\n",
              "      <td>2.205300e+07</td>\n",
              "      <td>1687000.0</td>\n",
              "      <td>NaN</td>\n",
              "      <td>2.017800e+07</td>\n",
              "      <td>NaN</td>\n",
              "      <td>1.880000e+05</td>\n",
              "      <td>NaN</td>\n",
              "      <td>1.221900e+07</td>\n",
              "      <td>NaN</td>\n",
              "      <td>NaN</td>\n",
              "      <td>NaN</td>\n",
              "      <td>NaN</td>\n",
              "      <td>NaN</td>\n",
              "      <td>NaN</td>\n",
              "      <td>NaN</td>\n",
              "      <td>NaN</td>\n",
              "      <td>NaN</td>\n",
              "      <td>9.833000e+06</td>\n",
              "      <td>7.830000e+05</td>\n",
              "      <td>9.050000e+06</td>\n",
              "      <td>NaN</td>\n",
              "      <td>NaN</td>\n",
              "      <td>2.205200e+07</td>\n",
              "      <td>2.205200e+07</td>\n",
              "      <td>NaN</td>\n",
              "      <td>5.360900e+07</td>\n",
              "      <td>4.900000e+07</td>\n",
              "      <td>4609000.0</td>\n",
              "      <td>...</td>\n",
              "      <td>1.0</td>\n",
              "      <td>1.0</td>\n",
              "      <td>43.2</td>\n",
              "      <td>0.0</td>\n",
              "      <td>0.0</td>\n",
              "      <td>1.0</td>\n",
              "      <td>500.0</td>\n",
              "      <td>0.0</td>\n",
              "      <td>3.0</td>\n",
              "      <td>432271.0</td>\n",
              "      <td>3.0</td>\n",
              "      <td>52770.0</td>\n",
              "      <td>0.0</td>\n",
              "      <td>10.0</td>\n",
              "      <td>2.0</td>\n",
              "      <td>6.0</td>\n",
              "      <td>3.0</td>\n",
              "      <td>1015229.0</td>\n",
              "      <td>48.0</td>\n",
              "      <td>4.0</td>\n",
              "      <td>20.0</td>\n",
              "      <td>13.0</td>\n",
              "      <td>5395500.0</td>\n",
              "      <td>95.0</td>\n",
              "      <td>3.0</td>\n",
              "      <td>54.0</td>\n",
              "      <td>55.0</td>\n",
              "      <td>7698336.0</td>\n",
              "      <td>689.0</td>\n",
              "      <td>35.0</td>\n",
              "      <td>274.0</td>\n",
              "      <td>271.0</td>\n",
              "      <td>55854817.0</td>\n",
              "      <td>NaN</td>\n",
              "      <td>NaN</td>\n",
              "      <td>NaN</td>\n",
              "      <td>NaN</td>\n",
              "      <td>NaN</td>\n",
              "      <td>NaN</td>\n",
              "      <td>NaN</td>\n",
              "    </tr>\n",
              "  </tbody>\n",
              "</table>\n",
              "<p>17891 rows × 124 columns</p>\n",
              "</div>"
            ],
            "text/plain": [
              "       id_contract  id_client  ... SEX_NAME  CITIZENSHIP_NAME\n",
              "0                1       1847  ...      NaN               NaN\n",
              "1                2       4650  ...      NaN               NaN\n",
              "2                3       4770  ...      NaN               NaN\n",
              "3                4      12237  ...      NaN               NaN\n",
              "4                5       9988  ...      NaN               NaN\n",
              "...            ...        ...  ...      ...               ...\n",
              "17886        17887       3439  ...      NaN               NaN\n",
              "17887        17888        838  ...      NaN               NaN\n",
              "17888        17889      10537  ...      NaN               NaN\n",
              "17889        17890       1751  ...      NaN               NaN\n",
              "17890        17891       3095  ...      NaN               NaN\n",
              "\n",
              "[17891 rows x 124 columns]"
            ]
          },
          "metadata": {},
          "execution_count": 112
        }
      ]
    },
    {
      "cell_type": "markdown",
      "metadata": {
        "id": "7peXTMniVhhn"
      },
      "source": [
        "Загрузка описания полей"
      ]
    },
    {
      "cell_type": "code",
      "metadata": {
        "id": "IyX09V2QdAU1"
      },
      "source": [
        "data_description = pd.read_excel('/content/drive/MyDrive/Colab Notebooks/MKB_credit_risk/data_description.xlsx')"
      ],
      "execution_count": null,
      "outputs": []
    },
    {
      "cell_type": "code",
      "metadata": {
        "colab": {
          "base_uri": "https://localhost:8080/",
          "height": 419
        },
        "id": "-ZnSJtrFdJOk",
        "outputId": "211b1f19-0314-4e08-eed1-9843f68faa38"
      },
      "source": [
        "data_description"
      ],
      "execution_count": null,
      "outputs": [
        {
          "output_type": "execute_result",
          "data": {
            "text/html": [
              "<div>\n",
              "<style scoped>\n",
              "    .dataframe tbody tr th:only-of-type {\n",
              "        vertical-align: middle;\n",
              "    }\n",
              "\n",
              "    .dataframe tbody tr th {\n",
              "        vertical-align: top;\n",
              "    }\n",
              "\n",
              "    .dataframe thead th {\n",
              "        text-align: right;\n",
              "    }\n",
              "</style>\n",
              "<table border=\"1\" class=\"dataframe\">\n",
              "  <thead>\n",
              "    <tr style=\"text-align: right;\">\n",
              "      <th></th>\n",
              "      <th>Название поля</th>\n",
              "      <th>Описание</th>\n",
              "    </tr>\n",
              "  </thead>\n",
              "  <tbody>\n",
              "    <tr>\n",
              "      <th>0</th>\n",
              "      <td>id_contract</td>\n",
              "      <td>Идентификатор контракта</td>\n",
              "    </tr>\n",
              "    <tr>\n",
              "      <th>1</th>\n",
              "      <td>id_client</td>\n",
              "      <td>Идентификатор клиента</td>\n",
              "    </tr>\n",
              "    <tr>\n",
              "      <th>2</th>\n",
              "      <td>SIGN_DATE</td>\n",
              "      <td>Дата подписания контракта</td>\n",
              "    </tr>\n",
              "    <tr>\n",
              "      <th>3</th>\n",
              "      <td>IP_flag</td>\n",
              "      <td>Флаг ИП</td>\n",
              "    </tr>\n",
              "    <tr>\n",
              "      <th>4</th>\n",
              "      <td>TARGET</td>\n",
              "      <td>Целевая переменная - факт наличия предъявления...</td>\n",
              "    </tr>\n",
              "    <tr>\n",
              "      <th>...</th>\n",
              "      <td>...</td>\n",
              "      <td>...</td>\n",
              "    </tr>\n",
              "    <tr>\n",
              "      <th>119</th>\n",
              "      <td>COUNT_CHANGE_EVER</td>\n",
              "      <td>Количество изменений в наименовании и организа...</td>\n",
              "    </tr>\n",
              "    <tr>\n",
              "      <th>120</th>\n",
              "      <td>BIRTHDATE</td>\n",
              "      <td>Дата рождения</td>\n",
              "    </tr>\n",
              "    <tr>\n",
              "      <th>121</th>\n",
              "      <td>AGE</td>\n",
              "      <td>Возраст</td>\n",
              "    </tr>\n",
              "    <tr>\n",
              "      <th>122</th>\n",
              "      <td>SEX_NAME</td>\n",
              "      <td>Пол</td>\n",
              "    </tr>\n",
              "    <tr>\n",
              "      <th>123</th>\n",
              "      <td>CITIZENSHIP_NAME</td>\n",
              "      <td>Гражданство</td>\n",
              "    </tr>\n",
              "  </tbody>\n",
              "</table>\n",
              "<p>124 rows × 2 columns</p>\n",
              "</div>"
            ],
            "text/plain": [
              "         Название поля                                           Описание\n",
              "0          id_contract                            Идентификатор контракта\n",
              "1            id_client                              Идентификатор клиента\n",
              "2            SIGN_DATE                          Дата подписания контракта\n",
              "3              IP_flag                                            Флаг ИП\n",
              "4               TARGET  Целевая переменная - факт наличия предъявления...\n",
              "..                 ...                                                ...\n",
              "119  COUNT_CHANGE_EVER  Количество изменений в наименовании и организа...\n",
              "120          BIRTHDATE                                      Дата рождения\n",
              "121                AGE                                            Возраст\n",
              "122           SEX_NAME                                                Пол\n",
              "123   CITIZENSHIP_NAME                                        Гражданство\n",
              "\n",
              "[124 rows x 2 columns]"
            ]
          },
          "metadata": {},
          "execution_count": 114
        }
      ]
    },
    {
      "cell_type": "markdown",
      "metadata": {
        "id": "fdpD_r1bVtM0"
      },
      "source": [
        "Загрузка тестовой выборки"
      ]
    },
    {
      "cell_type": "code",
      "metadata": {
        "id": "wTD6wYFteRVI"
      },
      "source": [
        "# encoding='cp1251', separator=';'\n",
        "data_test = pd.read_csv('/content/drive/MyDrive/Colab Notebooks/MKB_credit_risk/test_dataset_hackathon_mkb.csv',encoding='cp1251', sep=';')"
      ],
      "execution_count": null,
      "outputs": []
    },
    {
      "cell_type": "markdown",
      "metadata": {
        "id": "u30oZ51qVwcZ"
      },
      "source": [
        "## Анализ данных"
      ]
    },
    {
      "cell_type": "markdown",
      "metadata": {
        "id": "kZ9IFB4_WP-G"
      },
      "source": [
        "#### Проанализируем идентификаторы"
      ]
    },
    {
      "cell_type": "code",
      "metadata": {
        "colab": {
          "base_uri": "https://localhost:8080/"
        },
        "id": "jfoZY03E4oNb",
        "outputId": "ccbca364-43de-484d-bd81-ada936bac28f"
      },
      "source": [
        "print(f'Форма выборки{data.shape}')\n",
        "print('Уникальных идентификаторов контрактов',len(data.iloc[:,0].unique()))\n",
        "print('Уникальных идентификаторов клиентов',len(data.iloc[:,1].unique()))\n",
        "print(f\"Всего непустых значений идентификатора клиента {data.iloc[:,1].count()}\")"
      ],
      "execution_count": null,
      "outputs": [
        {
          "output_type": "stream",
          "name": "stdout",
          "text": [
            "Форма выборки(17891, 124)\n",
            "Уникальных идентификаторов контрактов 17891\n",
            "Уникальных идентификаторов клиентов 8922\n",
            "Всего непустых значений идентификатора клиента 17891\n"
          ]
        }
      ]
    },
    {
      "cell_type": "markdown",
      "metadata": {
        "id": "PRbLGuveHku6"
      },
      "source": [
        "Вывод:\n",
        "\n",
        "\n",
        "1.   Идентификаторы контрактов можно дропнуть\n",
        "2.   Идентификаторы клиентов????\n",
        "\n"
      ]
    },
    {
      "cell_type": "markdown",
      "metadata": {
        "id": "nNLwSrwrPPzZ"
      },
      "source": [
        "#### Проанализируем идентификаторы клиентов"
      ]
    },
    {
      "cell_type": "markdown",
      "metadata": {
        "id": "ttH46Qq1GUpt"
      },
      "source": [
        "Проверим, есть ли совпадения в клиентах между обучающей и тестовой выборками"
      ]
    },
    {
      "cell_type": "code",
      "metadata": {
        "id": "DYOjH9yAGeE7"
      },
      "source": [
        "common_clients = data.query('id_client in @data_test.id_client')"
      ],
      "execution_count": null,
      "outputs": []
    },
    {
      "cell_type": "code",
      "metadata": {
        "colab": {
          "base_uri": "https://localhost:8080/"
        },
        "id": "weS6GVXRGkKv",
        "outputId": "b466593d-a033-4357-b256-1e819239b383"
      },
      "source": [
        "print('Уникальных общих идентификаторов клиентов',len(common_clients.iloc[:,1].unique()))"
      ],
      "execution_count": null,
      "outputs": [
        {
          "output_type": "stream",
          "name": "stdout",
          "text": [
            "Уникальных общих идентификаторов клиентов 948\n"
          ]
        }
      ]
    },
    {
      "cell_type": "code",
      "metadata": {
        "colab": {
          "base_uri": "https://localhost:8080/"
        },
        "id": "YzZOAJcLI2-_",
        "outputId": "349d2186-85ef-4887-953b-025357b2c8b7"
      },
      "source": [
        "len(common_clients['id_client'].unique())"
      ],
      "execution_count": null,
      "outputs": [
        {
          "output_type": "execute_result",
          "data": {
            "text/plain": [
              "948"
            ]
          },
          "metadata": {},
          "execution_count": 119
        }
      ]
    },
    {
      "cell_type": "markdown",
      "metadata": {
        "id": "IVUZ31V1WsYw"
      },
      "source": [
        "#####Проверим есть ли клиенты c количествоm целевого показателя больше 1"
      ]
    },
    {
      "cell_type": "code",
      "metadata": {
        "colab": {
          "base_uri": "https://localhost:8080/"
        },
        "id": "o1cMnqQmWcCE",
        "outputId": "78357427-1333-47c1-f154-07c60a231d36"
      },
      "source": [
        "data.groupby(by='id_client',)['TARGET'].sum().sort_values(ascending=False)"
      ],
      "execution_count": null,
      "outputs": [
        {
          "output_type": "execute_result",
          "data": {
            "text/plain": [
              "id_client\n",
              "5159    291\n",
              "4613    278\n",
              "5357    220\n",
              "2483    182\n",
              "8677    145\n",
              "       ... \n",
              "7830      0\n",
              "7831      0\n",
              "7832      0\n",
              "7833      0\n",
              "6365      0\n",
              "Name: TARGET, Length: 8922, dtype: int64"
            ]
          },
          "metadata": {},
          "execution_count": 120
        }
      ]
    },
    {
      "cell_type": "markdown",
      "metadata": {
        "id": "Wb2O50qPvWrQ"
      },
      "source": [
        "И у общих клиентов между обучающей и тестовой выборками"
      ]
    },
    {
      "cell_type": "code",
      "metadata": {
        "colab": {
          "base_uri": "https://localhost:8080/"
        },
        "id": "WhfJMcsTOV2X",
        "outputId": "f61e5e94-d0ab-4abe-fcb3-73edbf746b69"
      },
      "source": [
        "common_clients.groupby(by='id_client',)['TARGET'].sum().sort_values(ascending=False)"
      ],
      "execution_count": null,
      "outputs": [
        {
          "output_type": "execute_result",
          "data": {
            "text/plain": [
              "id_client\n",
              "5159     291\n",
              "5357     220\n",
              "2512     132\n",
              "12467    125\n",
              "11273    119\n",
              "        ... \n",
              "8103       0\n",
              "8102       0\n",
              "8078       0\n",
              "8075       0\n",
              "8          0\n",
              "Name: TARGET, Length: 948, dtype: int64"
            ]
          },
          "metadata": {},
          "execution_count": 121
        }
      ]
    },
    {
      "cell_type": "markdown",
      "metadata": {
        "id": "8r_NqhqCxl7t"
      },
      "source": [
        "#### Проанализируем целевой признак"
      ]
    },
    {
      "cell_type": "code",
      "metadata": {
        "colab": {
          "base_uri": "https://localhost:8080/"
        },
        "id": "lDucBn16BViP",
        "outputId": "8fd134dc-86e5-47e2-b290-eb43039199da"
      },
      "source": [
        "print(f\"Распределение между классами целевого признака \\n{data['TARGET'].value_counts()}\")\n",
        "print(f\"Количество целевых показателей {data['TARGET'].count()}\")"
      ],
      "execution_count": null,
      "outputs": [
        {
          "output_type": "stream",
          "name": "stdout",
          "text": [
            "Распределение между классами целевого признака \n",
            "0    10502\n",
            "1     7389\n",
            "Name: TARGET, dtype: int64\n",
            "Количество целевых показателей 17891\n"
          ]
        }
      ]
    },
    {
      "cell_type": "markdown",
      "metadata": {
        "id": "FbMls7eFwWWB"
      },
      "source": [
        "#### Проанализируем колонки с пропусками"
      ]
    },
    {
      "cell_type": "code",
      "metadata": {
        "id": "Q9hRqE4bWYvH"
      },
      "source": [
        "def columns_analys(data):\n",
        "  col_list = []\n",
        "  full_cols = []\n",
        "  col_lens = []\n",
        "  for c in data.columns:\n",
        "    col_lens.append([c,(data[c].count())])\n",
        "    if data[c].count() < len(data):\n",
        "      #print('Неполноценная колонка',c,data[c].count())\n",
        "      col_list.append(c)\n",
        "    \n",
        "    else:\n",
        "      full_cols.append(c)\n",
        "  lens = pd.DataFrame(col_lens).sort_values(by=1,ascending=False)    \n",
        "  print('Всего неполных колонок',len(col_list))\n",
        "  print(f'Всего {data.shape[1]} колонок')\n",
        "  print(f'Полные колонки{full_cols}')\n",
        "  print('Длины колонок \\n',lens)\n",
        "  lens[1].hist(bins=50)"
      ],
      "execution_count": null,
      "outputs": []
    },
    {
      "cell_type": "code",
      "metadata": {
        "colab": {
          "base_uri": "https://localhost:8080/",
          "height": 585
        },
        "id": "diTD2eW5O3v9",
        "outputId": "a5063ddb-2aef-4208-a6ce-1a40c4540033"
      },
      "source": [
        "columns_analys(data)"
      ],
      "execution_count": null,
      "outputs": [
        {
          "output_type": "stream",
          "name": "stdout",
          "text": [
            "Всего неполных колонок 119\n",
            "Всего 124 колонок\n",
            "Полные колонки['id_contract', 'id_client', 'SIGN_DATE', 'IP_flag', 'TARGET']\n",
            "Длины колонок \n",
            "                          0      1\n",
            "0              id_contract  17891\n",
            "2                SIGN_DATE  17891\n",
            "3                  IP_flag  17891\n",
            "4                   TARGET  17891\n",
            "1                id_client  17891\n",
            "..                     ...    ...\n",
            "8                    F1160    346\n",
            "43                   F2310    301\n",
            "118      COUNT_CHANGE_YEAR    239\n",
            "21                   F1320     97\n",
            "117  FLAG_DISQUALIFICATION      5\n",
            "\n",
            "[124 rows x 2 columns]\n"
          ]
        },
        {
          "output_type": "display_data",
          "data": {
            "image/png": "[encoded data removed]",
            "text/plain": [
              "<Figure size 432x288 with 1 Axes>"
            ]
          },
          "metadata": {
            "needs_background": "light"
          }
        }
      ]
    },
    {
      "cell_type": "markdown",
      "metadata": {
        "id": "u4euys7v_Zy3"
      },
      "source": [
        "#####Вывод по анализу заполненности колонок"
      ]
    },
    {
      "cell_type": "markdown",
      "metadata": {
        "id": "Q7bIP2kK_gEU"
      },
      "source": [
        "Полностью заполнены только первые 5 колонок: id клиента, id контракта, дата подписания контракта, флаг ИП, целевой признак. Из этих признаков для обучения потребуется только флаг ИП и целевой признак."
      ]
    },
    {
      "cell_type": "code",
      "metadata": {
        "colab": {
          "base_uri": "https://localhost:8080/",
          "height": 585
        },
        "id": "OVM3_zEcBXsy",
        "outputId": "fa42bd91-5e35-4c0c-c6a9-80c7baa061bd"
      },
      "source": [
        "columns_analys(data_test)"
      ],
      "execution_count": null,
      "outputs": [
        {
          "output_type": "stream",
          "name": "stdout",
          "text": [
            "Всего неполных колонок 119\n",
            "Всего 123 колонок\n",
            "Полные колонки['id_contract', 'id_client', 'SIGN_DATE', 'IP_flag']\n",
            "Длины колонок \n",
            "                          0     1\n",
            "0              id_contract  7330\n",
            "1                id_client  7330\n",
            "2                SIGN_DATE  7330\n",
            "3                  IP_flag  7330\n",
            "85              OKVED_CODE  7047\n",
            "..                     ...   ...\n",
            "7                    F1160    79\n",
            "117      COUNT_CHANGE_YEAR    79\n",
            "42                   F2310    51\n",
            "20                   F1320     8\n",
            "116  FLAG_DISQUALIFICATION     5\n",
            "\n",
            "[123 rows x 2 columns]\n"
          ]
        },
        {
          "output_type": "display_data",
          "data": {
            "image/png": "[encoded data removed]",
            "text/plain": [
              "<Figure size 432x288 with 1 Axes>"
            ]
          },
          "metadata": {
            "needs_background": "light"
          }
        }
      ]
    },
    {
      "cell_type": "markdown",
      "metadata": {
        "id": "OqC577yBWAok"
      },
      "source": [
        "####Рассмотрим описание полей"
      ]
    },
    {
      "cell_type": "code",
      "metadata": {
        "colab": {
          "base_uri": "https://localhost:8080/"
        },
        "id": "x07lOHrxTmbY",
        "outputId": "6e4b9015-4c72-4c20-94d3-12a81fbea335"
      },
      "source": [
        "for i in range(len(data_description)):\n",
        "  print(data_description.loc[i,'Название поля'],'---',data_description.loc[i,'Описание'])"
      ],
      "execution_count": null,
      "outputs": [
        {
          "output_type": "stream",
          "name": "stdout",
          "text": [
            "id_contract --- Идентификатор контракта\n",
            "id_client --- Идентификатор клиента\n",
            "SIGN_DATE --- Дата подписания контракта\n",
            "IP_flag --- Флаг ИП\n",
            "TARGET --- Целевая переменная - факт наличия предъявления по гарантии\n",
            "F1100 --- Внеоборотные активы\n",
            "F1110 --- Нематериальные активы\n",
            "F1150 --- Основные средства\n",
            "F1160 --- Доходные вложения в материальные ценности\n",
            "F1170 --- Долгосрочные финансовые вложения\n",
            "F1180 --- Отложенные налоговые активы\n",
            "F1190 --- Прочие внеоборотные активы\n",
            "F1200 --- Оборотные активы\n",
            "F1210 --- Запасы\n",
            "F1220 --- НДС по приобретенным ценностям\n",
            "F1230 --- Дебиторская задолженность\n",
            "F1240 --- Краткосрочные финансовые вложения\n",
            "F1250 --- Дебиторская задолженность\n",
            "F1260 --- Прочие оборотные активы\n",
            "F1300 --- Капитал и резервы\n",
            "F1310 --- Уставный капитал\n",
            "F1320 --- Собственные акции, выкупленные у акционеров\n",
            "F1350 --- Добавочный капитал\n",
            "F1360 --- Резервный капитал\n",
            "F1370 --- Нераспределенная прибыль (непокрытый убыток)\n",
            "F1400 --- Долгосрочные обязательства\n",
            "F1410 --- Заёмные средства (долгосрочные)\n",
            "F1420 --- Отложенные налоговые обязательства\n",
            "F1450 --- Прочие долгосрочные обязательства\n",
            "F1500 --- Краткосрочные обязательства\n",
            "F1510 --- Заёмные средства (краткосрочные)\n",
            "F1520 --- Кредиторская задолженность\n",
            "F1530 --- Доходы будущих периодов\n",
            "F1550 --- Прочие краткосрочные обязательства\n",
            "F1600 --- Активы  всего\n",
            "F1700 --- Пассивы всего\n",
            "F2100 --- Валовая прибыль (убыток)\n",
            "F2110 --- Выручка\n",
            "F2120 --- Себестоимость продаж\n",
            "F2200 --- Прибыль (убыток) от продажи\n",
            "F2210 --- Коммерческие расходы\n",
            "F2220 --- Управленческие расходы\n",
            "F2300 --- Прибыль (убыток) до налогообложения\n",
            "F2310 --- Доходы от участия в других организациях\n",
            "F2320 --- Проценты к получению\n",
            "F2330 --- Проценты к уплате\n",
            "F2340 --- Прочие доходы\n",
            "F2350 --- Прочие расходы\n",
            "F2400 --- Чистая прибыль (убыток)\n",
            "F2410 --- Текущий налог на прибыль\n",
            "F1150_LAG1 --- Основные средства (предыдущий период)\n",
            "F1230_LAG1 --- Дебиторская задолженность (предыдущий период)\n",
            "F1410_LAG1 --- Заёмные средства (долгосрочные) (предыдущий период)\n",
            "F1510_LAG1 --- Заёмные средства (краткосрочные) (предыдущий период)\n",
            "F1520_LAG1 --- Кредиторская задолженность (предыдущий период)\n",
            "F2110_LAG1 --- Выручка (предыдущий период)\n",
            "F2120_LAG1 --- Себестоимость продаж (предыдущий период)\n",
            "F2200_LAG1 --- Прибыль (убыток) от продажи (предыдущий период)\n",
            "F2210_LAG1 --- Коммерческие расходы (предыдущий период)\n",
            "F2220_LAG1 --- Управленческие расходы (предыдущий период)\n",
            "F2300_LAG1 --- Прибыль (убыток) до налогообложения (предыдущий период)\n",
            "F2320_LAG1 --- Проценты к получению (предыдущий период)\n",
            "F2330_LAG1 --- Проценты к уплате (предыдущий период)\n",
            "F2400_LAG1 --- Чистая прибыль (убыток) (предыдущий период)\n",
            "EGRPOINCLUDED --- Признак включения в ЕГРПО (Росстат)\n",
            "DATEFIRSTREG --- Дата регистрации\n",
            "OKFS_GROUP --- Группа ОКФС\n",
            "OKOPF_GROUP --- Группа ОКОПФ\n",
            "OKOGU_GROUP --- Группа ОКОГУ\n",
            "OKATO_REGIONCODE --- ОКАТО. Код региона\n",
            "OKATO_FED --- Код федерального округа по ОКАТО\n",
            "OKTMO_CODE --- ОКТМО. Код\n",
            "OKTMO_FED --- Код федерального округа по ОКОТМО\n",
            "WORKERSRANGE --- Диапазон численности персонала\n",
            "TAXREG_REGDATE --- Регистрация в ФНС. Дата регистрации\n",
            "TAXREGPAY_REGDATE --- Регистрация в налоговом органе. Дата регистрации\n",
            "COUNTCOOWNERFCSM --- Структура компании. Количество совладельцев (Данные компании/ФСФР)\n",
            "COUNTCOOWNERROSSTAT --- Структура компании. Количество совладельцев (Ростат)\n",
            "COUNTCOOWNEREGRUL --- Структура компании. Количество совладельцев (ЕГРЮЛ)\n",
            "COUNTBRANCH --- Структура компании. Количество филиалов (Данные компании)\n",
            "COUNTBRANCHROSSTAT --- Структура компании. Количество филиалов (Росстат)\n",
            "COUNTBRANCHEGRUL --- Структура компании. Количество филиалов (ЕГРЮЛ)\n",
            "TELEPHONECOUNT --- Количество компаний с аналогичными телефоном\n",
            "MANAGERCOUNTINCOUNTRY --- Количество компаний с аналогичным ФИО руководителя (поиск по ФИО руководителя среди всех действующих компаний)\n",
            "MANAGERCOUNTINREGION --- Количество компаний с аналогичным ФИО руководителя (поиск по ФИО руководителя среди действующих компаний, зарегистрированных в том же регионе)\n",
            "MANAGERINNCOUNT --- Количество компаний с аналогичным ИНН руководителя (поиск по ИНН руководителя среди всех действующих компаний)\n",
            "OKVED_CODE --- ОКВЭД\n",
            "PLAINTIFF_CASESNUMBER_YEAR --- Участие в арбитражных делах в качестве истца. Количество дел (за последний год)\n",
            "PLAINTIFF_SUM_YEAR --- Участие в арбитражных делах в качестве истца. Сумма, руб. (за последний год)\n",
            "DEFENDANT_CASESNUMBER_YEAR --- Участие в арбитражных делах в качестве ответчика. Количество дел (за последний год)\n",
            "DEFENDANT_SUM_YEAR --- Участие в арбитражных делах в качестве ответчика. Сумма, руб. (за последний год)\n",
            "THIRDOROTHERPERSON_YEAR --- Участие в арбитражных делах в качестве третьего лица. (за последний год)\n",
            "PLAINTIFF_CASESNUMBER_EVER --- Участие в арбитражных делах в качестве истца. Количество дел (за все время)\n",
            "PLAINTIFF_SUM_EVER --- Участие в арбитражных делах в качестве истца. Сумма, руб. (за все время)\n",
            "DEFENDANT_CASESNUMBER_EVER --- Участие в арбитражных делах в качестве ответчика. Количество дел (за все время)\n",
            "DEFENDANT_SUM_EVER --- Участие в арбитражных делах в качестве ответчика. Сумма, руб. (за все время)\n",
            "THIRDOROTHERPERSON_EVER --- Участие в арбитражных делах в качестве третьего лица. (за все время)\n",
            "ADMITTEDNUMBER_233_YEAR --- Данные о тендерах за последний год. Число допусков к тендеру (ФЗ 223)\n",
            "NOTADMITTEDNUMBER_233_YEAR --- Данные о тендерах за последний год. Число не допусков к тендеру (ФЗ 223)\n",
            "WINNERNUMBER_233_YEAR --- Данные о тендерах за последний год. Число выигрышей тендеров (ФЗ 223)\n",
            "SIGNEDNUMBER_233_YEAR --- Данные о госконтрактах за последний год. Число подписанных контрактов (ФЗ 223)\n",
            "SUM_233_YEAR --- Данные о госконтрактах за последний год. Контрактов подписано на сумму, руб. (ФЗ 223)\n",
            "ADMITTEDNUMBER_233_EVER --- Данные о тендерах за все время. Число допусков к тендеру (ФЗ 223)\n",
            "NOTADMITTEDNUMBER_233_EVER --- Данные о тендерах за все время. Число не допусков к тендеру (ФЗ 223)\n",
            "WINNERNUMBER_233_EVER --- Данные о тендерах за все время. Число выигрышей тендеров (ФЗ 223)\n",
            "SIGNEDNUMBER_233_EVER --- Данные о госконтрактах за все время. Число подписанных контрактов (ФЗ 223)\n",
            "SUM_233_EVER --- Данные о госконтрактах за все время. Контрактов подписано на сумму, руб. (ФЗ 223)\n",
            "ADMITTEDNUMBER_95_YEAR --- Данные о тендерах за последний год. Число допусков к тендеру (ФЗ 94)\n",
            "NOTADMITTEDNUMBER_95_YEAR --- Данные о тендерах за последний год. Число не допусков к тендеру (ФЗ 94)\n",
            "WINNERNUMBER_95_YEAR --- Данные о тендерах за последний год. Число выигрышей тендеров (ФЗ 94)\n",
            "SIGNEDNUMBER_95_YEAR --- Данные о госконтрактах за последний год. Число подписанных контрактов (ФЗ 94)\n",
            "SUM_95_YEAR --- Данные о госконтрактах за последний год. Контрактов подписано на сумму, руб. (ФЗ 94)\n",
            "ADMITTEDNUMBER_95_EVER --- Данные о тендерах за все время. Число допусков к тендеру (ФЗ 94)\n",
            "NOTADMITTEDNUMBER_EVER --- Данные о тендерах за все время. Число не допусков к тендеру (ФЗ 94)\n",
            "WINNERNUMBER_95_EVER --- Данные о тендерах за все время. Число выигрышей тендеров (ФЗ 94)\n",
            "SIGNEDNUMBER_95_EVER --- Данные о госконтрактах за все время. Число подписанных контрактов (ФЗ 94)\n",
            "SUM_95_EVER --- Данные о госконтрактах за все время. Контрактов подписано на сумму, руб. (ФЗ 94)\n",
            "FLAG_DISQUALIFICATION --- Наличие руководителя компании, дисквалифицированного когда-либо\n",
            "COUNT_CHANGE_YEAR --- Количество изменений в наименовании и организационно-правовой форме за последний год\n",
            "COUNT_CHANGE_EVER --- Количество изменений в наименовании и организационно-правовой форме за все время\n",
            "BIRTHDATE --- Дата рождения\n",
            "AGE --- Возраст\n",
            "SEX_NAME --- Пол\n",
            "CITIZENSHIP_NAME --- Гражданство\n"
          ]
        }
      ]
    },
    {
      "cell_type": "markdown",
      "metadata": {
        "id": "ItLZkqZ1dWOd"
      },
      "source": [
        "####Проанализируем каждый признак на корреляцию, смысл и заполненность"
      ]
    },
    {
      "cell_type": "code",
      "metadata": {
        "id": "21ImL3jWwM3g"
      },
      "source": [
        "def column_etl(column_name):\n",
        "  description = data_description.loc[data_description['Название поля'] == column_name,'Описание'].reset_index().loc[0,'Описание']\n",
        "  print(f'Название поля: {column_name}, описание поля:', description)\n",
        "  display(data[column_name].head(3))\n",
        "  col_type = data[column_name].dtypes\n",
        "  print(f'Тип данных {col_type}')\n",
        "  if col_type != 'object':\n",
        "    print('Корелляция с целевым признаком',data[column_name].corr(data['TARGET']))\n",
        "    display(data[column_name].describe())\n",
        "  else:\n",
        "     print('Уникальные значения')\n",
        "     display(data[column_name].value_counts())\n",
        "  print(f'Количество заполненных значений {data[column_name].count()}')\n",
        "  print('Решаем что делать с колонкой?')"
      ],
      "execution_count": null,
      "outputs": []
    },
    {
      "cell_type": "code",
      "metadata": {
        "id": "L6RFjALW7002"
      },
      "source": [
        "def all_columns(data):\n",
        "  for c in data.columns:\n",
        "    column_etl(c)\n",
        "    print('______________')\n",
        "    print('')"
      ],
      "execution_count": null,
      "outputs": []
    },
    {
      "cell_type": "code",
      "metadata": {
        "id": "dy4Nu4BglJSk"
      },
      "source": [
        "#all_columns(data)"
      ],
      "execution_count": null,
      "outputs": []
    },
    {
      "cell_type": "code",
      "metadata": {
        "colab": {
          "base_uri": "https://localhost:8080/",
          "height": 283
        },
        "id": "RtELCLMV67YF",
        "outputId": "4dbad3c7-8c83-4537-c60e-dc85ae1eead2"
      },
      "source": [
        "data_test['COUNTCOOWNERFCSM'].hist(bins=100)"
      ],
      "execution_count": null,
      "outputs": [
        {
          "output_type": "execute_result",
          "data": {
            "text/plain": [
              "<matplotlib.axes._subplots.AxesSubplot at 0x7f809b67c550>"
            ]
          },
          "metadata": {},
          "execution_count": 130
        },
        {
          "output_type": "display_data",
          "data": {
            "image/png": "[encoded data removed]",
            "text/plain": [
              "<Figure size 432x288 with 1 Axes>"
            ]
          },
          "metadata": {
            "needs_background": "light"
          }
        }
      ]
    },
    {
      "cell_type": "markdown",
      "metadata": {
        "id": "saA11iYcmKGl"
      },
      "source": [
        "####Составим список признаков, которые можно вырезать"
      ]
    },
    {
      "cell_type": "code",
      "metadata": {
        "id": "85PO8OzAT2GM",
        "colab": {
          "base_uri": "https://localhost:8080/"
        },
        "outputId": "f8919934-4a52-44eb-d4df-d59f8fa67579"
      },
      "source": [
        "to_drop = list(data_description['Название поля'].loc[data_description['Описание'].isin(['ОКВЭД','Идентификатор контракта','Идентификатор клиента','Дата рождения','Дата подписания контракта','Пол','Гражданство',\n",
        "                                                                                        'Внеоборотные активы','Нематериальные активы','НДС по приобретенным ценностям','Краткосрочные финансовые вложения',\n",
        "                                                                                        'Прочие оборотные активы','Прочие внеоборотные активы','Уставный капитал','Собственные акции, выкупленные у акционеров',\n",
        "                                                                                        'Добавочный капитал','Резервный капитал','Долгосрочные обязательства','Отложенные налоговые обязательства',\n",
        "                                                                                        'Доходы будущих периодов','Прочие краткосрочные обязательства','Прибыль (убыток) от продажи','Управленческие расходы',\n",
        "                                                                                        'Доходы от участия в других организациях','Проценты к получению','Проценты к уплате','Текущий налог на прибыль',\n",
        "                                                                                        'Прибыль (убыток) от продажи (предыдущий период)','Управленческие расходы (предыдущий период)',\n",
        "                                                                                        'Прибыль (убыток) до налогообложения (предыдущий период)','Проценты к получению (предыдущий период)',\n",
        "                                                                                        'Проценты к уплате (предыдущий период)','Чистая прибыль (убыток) (предыдущий период)',\n",
        "                                                                                        'Дата регистрации','Код федерального округа по ОКАТО','Код федерального округа по ОКОТМО',\n",
        "                                                                                        'Регистрация в ФНС. Дата регистрации','Регистрация в налоговом органе. Дата регистрации',\n",
        "                                                                                        'Структура компании. Количество филиалов (Росстат)','Количество филиалов (ЕГРЮЛ)',\n",
        "                                                                                        'Количество компаний с аналогичным ФИО руководителя (поиск по ФИО руководителя среди действующих компаний, зарегистрированных в том же регионе)',\n",
        "                                                                                        'Количество компаний с аналогичным ИНН руководителя (поиск по ИНН руководителя среди всех действующих компаний)',\n",
        "                                                                                        'Участие в арбитражных делах в качестве истца. Количество дел (за последний год)',\n",
        "                                                                                        'Участие в арбитражных делах в качестве ответчика. Количество дел (за последний год)',\n",
        "                                                                                        'Участие в арбитражных делах в качестве истца. Сумма, руб. (за все время)',\n",
        "                                                                                        'Данные о тендерах за последний год. Число выигрышей тендеров (ФЗ 223)',\n",
        "                                                                                        'Данные о госконтрактах за последний год. Число подписанных контрактов (ФЗ 223)',\n",
        "                                                                                        'Данные о тендерах за последний год. Число допусков к тендеру (ФЗ 94)',\n",
        "                                                                                        'Данные о тендерах за последний год. Число не допусков к тендеру (ФЗ 94)',\n",
        "                                                                                        'Данные о тендерах за последний год. Число выигрышей тендеров (ФЗ 94)',\n",
        "                                                                                        'Данные о госконтрактах за последний год. Число подписанных контрактов (ФЗ 94)',\n",
        "                                                                                        'Данные о тендерах за все время. Число допусков к тендеру (ФЗ 94)',\n",
        "                                                                                        'Данные о тендерах за все время. Число не допусков к тендеру (ФЗ 94)',\n",
        "                                                                                        'Данные о госконтрактах за все время. Контрактов подписано на сумму, руб. (ФЗ 94)',\n",
        "                                                                                        'Наличие руководителя компании, дисквалифицированного когда-либо'\n",
        "                                                                                        ])])\n",
        "to_drop"
      ],
      "execution_count": null,
      "outputs": [
        {
          "output_type": "execute_result",
          "data": {
            "text/plain": [
              "['id_contract',\n",
              " 'id_client',\n",
              " 'SIGN_DATE',\n",
              " 'F1100',\n",
              " 'F1110',\n",
              " 'F1190',\n",
              " 'F1220',\n",
              " 'F1240',\n",
              " 'F1260',\n",
              " 'F1310',\n",
              " 'F1320',\n",
              " 'F1350',\n",
              " 'F1360',\n",
              " 'F1400',\n",
              " 'F1420',\n",
              " 'F1530',\n",
              " 'F1550',\n",
              " 'F2200',\n",
              " 'F2220',\n",
              " 'F2310',\n",
              " 'F2320',\n",
              " 'F2330',\n",
              " 'F2410',\n",
              " 'F2200_LAG1',\n",
              " 'F2220_LAG1',\n",
              " 'F2300_LAG1',\n",
              " 'F2320_LAG1',\n",
              " 'F2330_LAG1',\n",
              " 'F2400_LAG1',\n",
              " 'DATEFIRSTREG',\n",
              " 'OKATO_FED',\n",
              " 'OKTMO_FED',\n",
              " 'TAXREG_REGDATE',\n",
              " 'TAXREGPAY_REGDATE',\n",
              " 'COUNTBRANCHROSSTAT',\n",
              " 'MANAGERCOUNTINREGION',\n",
              " 'MANAGERINNCOUNT',\n",
              " 'OKVED_CODE',\n",
              " 'PLAINTIFF_CASESNUMBER_YEAR',\n",
              " 'DEFENDANT_CASESNUMBER_YEAR',\n",
              " 'PLAINTIFF_SUM_EVER',\n",
              " 'WINNERNUMBER_233_YEAR',\n",
              " 'SIGNEDNUMBER_233_YEAR',\n",
              " 'ADMITTEDNUMBER_95_YEAR',\n",
              " 'NOTADMITTEDNUMBER_95_YEAR',\n",
              " 'WINNERNUMBER_95_YEAR',\n",
              " 'SIGNEDNUMBER_95_YEAR',\n",
              " 'ADMITTEDNUMBER_95_EVER',\n",
              " 'NOTADMITTEDNUMBER_EVER',\n",
              " 'SUM_95_EVER',\n",
              " 'FLAG_DISQUALIFICATION',\n",
              " 'BIRTHDATE',\n",
              " 'SEX_NAME',\n",
              " 'CITIZENSHIP_NAME']"
            ]
          },
          "metadata": {},
          "execution_count": 131
        }
      ]
    },
    {
      "cell_type": "markdown",
      "metadata": {
        "id": "8tr_y64MpQ6w"
      },
      "source": [
        "####Составим список категориальных признаков"
      ]
    },
    {
      "cell_type": "code",
      "metadata": {
        "id": "IQ6WvFKTUk6e",
        "colab": {
          "base_uri": "https://localhost:8080/"
        },
        "outputId": "3509af7e-c455-4692-a631-ed787bac6ddb"
      },
      "source": [
        "categorical = list(data_description['Название поля'].loc[data_description['Описание'].isin(['Флаг ИП','Признак включения в ЕГРПО (Росстат)',\n",
        "                                                                                            'Группа ОКФС','Группа ОКОПФ','Группа ОКОГУ','ОКАТО. Код региона','ОКТМО. Код','Диапазон численности персонала',\n",
        "\n",
        "                                                                                            ])])\n",
        "categorical"
      ],
      "execution_count": null,
      "outputs": [
        {
          "output_type": "execute_result",
          "data": {
            "text/plain": [
              "['IP_flag',\n",
              " 'EGRPOINCLUDED',\n",
              " 'OKFS_GROUP',\n",
              " 'OKOPF_GROUP',\n",
              " 'OKOGU_GROUP',\n",
              " 'OKATO_REGIONCODE',\n",
              " 'OKTMO_CODE',\n",
              " 'WORKERSRANGE']"
            ]
          },
          "metadata": {},
          "execution_count": 132
        }
      ]
    },
    {
      "cell_type": "markdown",
      "metadata": {
        "id": "SVaXW1yrWF3G"
      },
      "source": [
        "#####Составим список признаков для OE"
      ]
    },
    {
      "cell_type": "code",
      "metadata": {
        "colab": {
          "base_uri": "https://localhost:8080/"
        },
        "id": "yuKzMpNqXIfA",
        "outputId": "d24c8edb-e358-4eef-e822-1f4a67fe2f2a"
      },
      "source": [
        "to_OE_cols= list(data_description['Название поля'].loc[data_description['Описание'].isin(['Группа ОКФС','Группа ОКОПФ','Группа ОКОГУ','Диапазон численности персонала'])])\n",
        "to_OE_cols"
      ],
      "execution_count": null,
      "outputs": [
        {
          "output_type": "execute_result",
          "data": {
            "text/plain": [
              "['OKFS_GROUP', 'OKOPF_GROUP', 'OKOGU_GROUP', 'WORKERSRANGE']"
            ]
          },
          "metadata": {},
          "execution_count": 133
        }
      ]
    },
    {
      "cell_type": "markdown",
      "metadata": {
        "id": "0qTW1qkDpVrR"
      },
      "source": [
        "####Составим список признаков для заполнения NaN нулем"
      ]
    },
    {
      "cell_type": "code",
      "metadata": {
        "colab": {
          "base_uri": "https://localhost:8080/"
        },
        "id": "zGDn522tpbo-",
        "outputId": "22ed0208-457d-419b-e0d6-d8005b42847c"
      },
      "source": [
        "nan_to_zero = list(data_description['Название поля'].loc[data_description['Описание'].isin(['Основные средства','Доходные вложения в материальные ценности','Долгосрочные финансовые вложения',\n",
        "                                                                                            'Отложенные налоговые активы',\n",
        "                                                                                            'Оборотные активы','Запасы','Дебиторская задолженность','Капитал и резервы','Нераспределенная прибыль (непокрытый убыток)',\n",
        "                                                                                            'Заёмные средства (долгосрочные)','Прочие долгосрочные обязательства','Краткосрочные обязательства',\n",
        "                                                                                            'Заёмные средства (краткосрочные)','Кредиторская задолженность','Активы  всего','Пассивы всего',\n",
        "                                                                                            'Валовая прибыль (убыток)','Выручка','Себестоимость продаж','Коммерческие расходы','Прибыль (убыток) до налогообложения',\n",
        "                                                                                            'Прочие доходы','Прочие расходы','Чистая прибыль (убыток)','Основные средства (предыдущий период)','Дебиторская задолженность (предыдущий период)',\n",
        "                                                                                            'Заёмные средства (долгосрочные) (предыдущий период)','Заёмные средства (краткосрочные) (предыдущий период)',\n",
        "                                                                                            'Кредиторская задолженность (предыдущий период)','Выручка (предыдущий период)','Себестоимость продаж (предыдущий период)',\n",
        "                                                                                            'Коммерческие расходы (предыдущий период)','Признак включения в ЕГРПО (Росстат)','ОКАТО. Код региона',\n",
        "                                                                                            'ОКТМО. Код','Структура компании. Количество совладельцев (Данные компании/ФСФР)',\n",
        "                                                                                            'Структура компании. Количество совладельцев (ЕГРЮЛ)','Структура компании. Количество филиалов (Данные компании)','Структура компании. Количество филиалов (ЕГРЮЛ)',\n",
        "                                                                                            'Количество компаний с аналогичными телефоном','Количество компаний с аналогичным ФИО руководителя (поиск по ФИО руководителя среди всех действующих компаний)',\n",
        "                                                                                            'Участие в арбитражных делах в качестве истца. Сумма, руб. (за последний год)',\n",
        "                                                                                            'Участие в арбитражных делах в качестве ответчика. Сумма, руб. (за последний год)',\n",
        "                                                                                            'Участие в арбитражных делах в качестве третьего лица. (за последний год)',\n",
        "                                                                                            'Участие в арбитражных делах в качестве истца. Количество дел (за все время)',\n",
        "                                                                                            'Участие в арбитражных делах в качестве ответчика. Количество дел (за все время)',\n",
        "                                                                                            'Участие в арбитражных делах в качестве ответчика. Сумма, руб. (за все время)',\n",
        "                                                                                            'Участие в арбитражных делах в качестве третьего лица. (за все время)',\n",
        "                                                                                            'Данные о тендерах за последний год. Число допусков к тендеру (ФЗ 223)',\n",
        "                                                                                            'Данные о тендерах за последний год. Число не допусков к тендеру (ФЗ 223)',\n",
        "                                                                                            'Данные о госконтрактах за последний год. Контрактов подписано на сумму, руб. (ФЗ 223)',\n",
        "                                                                                            'Данные о тендерах за все время. Число допусков к тендеру (ФЗ 223)',\n",
        "                                                                                            'Данные о тендерах за все время. Число не допусков к тендеру (ФЗ 223)',\n",
        "                                                                                            'Данные о тендерах за все время. Число выигрышей тендеров (ФЗ 223)',\n",
        "                                                                                            'Данные о госконтрактах за все время. Число подписанных контрактов (ФЗ 223)',\n",
        "                                                                                            'Данные о госконтрактах за все время. Контрактов подписано на сумму, руб. (ФЗ 223)',\n",
        "                                                                                            'Данные о госконтрактах за последний год. Контрактов подписано на сумму, руб. (ФЗ 94)',\n",
        "                                                                                            'Данные о тендерах за все время. Число выигрышей тендеров (ФЗ 94)',\n",
        "                                                                                            'Данные о госконтрактах за все время. Число подписанных контрактов (ФЗ 94)',\n",
        "                                                                                            'Количество изменений в наименовании и организационно-правовой форме за последний год',\n",
        "                                                                                            'Количество изменений в наименовании и организационно-правовой форме за все время',\n",
        "                                                                                            'Возраст',\n",
        "                                                                                            ])])\n",
        "nan_to_zero"
      ],
      "execution_count": null,
      "outputs": [
        {
          "output_type": "execute_result",
          "data": {
            "text/plain": [
              "['F1150',\n",
              " 'F1160',\n",
              " 'F1170',\n",
              " 'F1180',\n",
              " 'F1200',\n",
              " 'F1210',\n",
              " 'F1230',\n",
              " 'F1250',\n",
              " 'F1300',\n",
              " 'F1370',\n",
              " 'F1410',\n",
              " 'F1450',\n",
              " 'F1500',\n",
              " 'F1510',\n",
              " 'F1520',\n",
              " 'F1600',\n",
              " 'F1700',\n",
              " 'F2100',\n",
              " 'F2110',\n",
              " 'F2120',\n",
              " 'F2210',\n",
              " 'F2300',\n",
              " 'F2340',\n",
              " 'F2350',\n",
              " 'F2400',\n",
              " 'F1150_LAG1',\n",
              " 'F1230_LAG1',\n",
              " 'F1410_LAG1',\n",
              " 'F1510_LAG1',\n",
              " 'F1520_LAG1',\n",
              " 'F2110_LAG1',\n",
              " 'F2120_LAG1',\n",
              " 'F2210_LAG1',\n",
              " 'EGRPOINCLUDED',\n",
              " 'OKATO_REGIONCODE',\n",
              " 'OKTMO_CODE',\n",
              " 'COUNTCOOWNERFCSM',\n",
              " 'COUNTCOOWNEREGRUL',\n",
              " 'COUNTBRANCH',\n",
              " 'COUNTBRANCHEGRUL',\n",
              " 'TELEPHONECOUNT',\n",
              " 'MANAGERCOUNTINCOUNTRY',\n",
              " 'PLAINTIFF_SUM_YEAR',\n",
              " 'DEFENDANT_SUM_YEAR',\n",
              " 'THIRDOROTHERPERSON_YEAR',\n",
              " 'PLAINTIFF_CASESNUMBER_EVER',\n",
              " 'DEFENDANT_CASESNUMBER_EVER',\n",
              " 'DEFENDANT_SUM_EVER',\n",
              " 'THIRDOROTHERPERSON_EVER',\n",
              " 'ADMITTEDNUMBER_233_YEAR',\n",
              " 'NOTADMITTEDNUMBER_233_YEAR',\n",
              " 'SUM_233_YEAR',\n",
              " 'ADMITTEDNUMBER_233_EVER',\n",
              " 'NOTADMITTEDNUMBER_233_EVER',\n",
              " 'WINNERNUMBER_233_EVER',\n",
              " 'SIGNEDNUMBER_233_EVER',\n",
              " 'SUM_233_EVER',\n",
              " 'SUM_95_YEAR',\n",
              " 'WINNERNUMBER_95_EVER',\n",
              " 'SIGNEDNUMBER_95_EVER',\n",
              " 'COUNT_CHANGE_YEAR',\n",
              " 'COUNT_CHANGE_EVER',\n",
              " 'AGE']"
            ]
          },
          "metadata": {},
          "execution_count": 134
        }
      ]
    },
    {
      "cell_type": "markdown",
      "metadata": {
        "id": "5_xUyMJNBwX3"
      },
      "source": [
        "####Составим список признаков для заполнения NaN единицами"
      ]
    },
    {
      "cell_type": "code",
      "metadata": {
        "id": "l__VEKDABlGk"
      },
      "source": [
        "nan_to_one = list(data_description['Название поля'].loc[data_description['Описание'].isin(['Структура компании. Количество совладельцев (Ростат)'])])"
      ],
      "execution_count": null,
      "outputs": []
    },
    {
      "cell_type": "markdown",
      "metadata": {
        "id": "qtFsMTTi9VxS"
      },
      "source": [
        "####Составим список признаков, которые можно дополнить словом \"Неизвестно\""
      ]
    },
    {
      "cell_type": "code",
      "metadata": {
        "colab": {
          "base_uri": "https://localhost:8080/"
        },
        "id": "N8JwzsJE9cdQ",
        "outputId": "96882388-320c-4b5b-b344-e731b985395a"
      },
      "source": [
        "to_fill_with_noname = list(data_description['Название поля'].loc[data_description['Описание'].isin(['Группа ОКФС','Группа ОКОПФ','Группа ОКОГУ','Диапазон численности персонала'])])\n",
        "to_fill_with_noname"
      ],
      "execution_count": null,
      "outputs": [
        {
          "output_type": "execute_result",
          "data": {
            "text/plain": [
              "['OKFS_GROUP', 'OKOPF_GROUP', 'OKOGU_GROUP', 'WORKERSRANGE']"
            ]
          },
          "metadata": {},
          "execution_count": 136
        }
      ]
    },
    {
      "cell_type": "markdown",
      "metadata": {
        "id": "DH4BSZUkPKda"
      },
      "source": [
        "## Подготовка данных"
      ]
    },
    {
      "cell_type": "markdown",
      "metadata": {
        "id": "B3c0lJ_M43L1"
      },
      "source": [
        "####Подготовить два набора с вероятностью дефолта и без нее"
      ]
    },
    {
      "cell_type": "markdown",
      "metadata": {
        "id": "O4a5T2yiwB3b"
      },
      "source": [
        "#####Сгенерируем признак с вероятностью дефолта"
      ]
    },
    {
      "cell_type": "code",
      "metadata": {
        "colab": {
          "base_uri": "https://localhost:8080/",
          "height": 468
        },
        "id": "mjvik-LYw3Iq",
        "outputId": "76b654ba-4aa1-432f-b21f-0c8d0394cae9"
      },
      "source": [
        "defolt_proba = data.groupby(by='id_client')['TARGET'].agg(['count','sum']).sort_values(by='sum',ascending=False)\n",
        "defolt_proba['proba'] = defolt_proba['sum'] / defolt_proba['count']\n",
        "display(defolt_proba.loc[(defolt_proba['proba'] < 1) & (defolt_proba['proba'] >0)])\n",
        "print('Размер таблицы',defolt_proba.shape)"
      ],
      "execution_count": null,
      "outputs": [
        {
          "output_type": "display_data",
          "data": {
            "text/html": [
              "<div>\n",
              "<style scoped>\n",
              "    .dataframe tbody tr th:only-of-type {\n",
              "        vertical-align: middle;\n",
              "    }\n",
              "\n",
              "    .dataframe tbody tr th {\n",
              "        vertical-align: top;\n",
              "    }\n",
              "\n",
              "    .dataframe thead th {\n",
              "        text-align: right;\n",
              "    }\n",
              "</style>\n",
              "<table border=\"1\" class=\"dataframe\">\n",
              "  <thead>\n",
              "    <tr style=\"text-align: right;\">\n",
              "      <th></th>\n",
              "      <th>count</th>\n",
              "      <th>sum</th>\n",
              "      <th>proba</th>\n",
              "    </tr>\n",
              "    <tr>\n",
              "      <th>id_client</th>\n",
              "      <th></th>\n",
              "      <th></th>\n",
              "      <th></th>\n",
              "    </tr>\n",
              "  </thead>\n",
              "  <tbody>\n",
              "    <tr>\n",
              "      <th>5156</th>\n",
              "      <td>66</td>\n",
              "      <td>62</td>\n",
              "      <td>0.939394</td>\n",
              "    </tr>\n",
              "    <tr>\n",
              "      <th>2582</th>\n",
              "      <td>55</td>\n",
              "      <td>51</td>\n",
              "      <td>0.927273</td>\n",
              "    </tr>\n",
              "    <tr>\n",
              "      <th>2405</th>\n",
              "      <td>33</td>\n",
              "      <td>32</td>\n",
              "      <td>0.969697</td>\n",
              "    </tr>\n",
              "    <tr>\n",
              "      <th>11764</th>\n",
              "      <td>17</td>\n",
              "      <td>16</td>\n",
              "      <td>0.941176</td>\n",
              "    </tr>\n",
              "    <tr>\n",
              "      <th>2053</th>\n",
              "      <td>16</td>\n",
              "      <td>15</td>\n",
              "      <td>0.937500</td>\n",
              "    </tr>\n",
              "    <tr>\n",
              "      <th>...</th>\n",
              "      <td>...</td>\n",
              "      <td>...</td>\n",
              "      <td>...</td>\n",
              "    </tr>\n",
              "    <tr>\n",
              "      <th>1406</th>\n",
              "      <td>6</td>\n",
              "      <td>1</td>\n",
              "      <td>0.166667</td>\n",
              "    </tr>\n",
              "    <tr>\n",
              "      <th>12296</th>\n",
              "      <td>2</td>\n",
              "      <td>1</td>\n",
              "      <td>0.500000</td>\n",
              "    </tr>\n",
              "    <tr>\n",
              "      <th>11879</th>\n",
              "      <td>2</td>\n",
              "      <td>1</td>\n",
              "      <td>0.500000</td>\n",
              "    </tr>\n",
              "    <tr>\n",
              "      <th>1938</th>\n",
              "      <td>2</td>\n",
              "      <td>1</td>\n",
              "      <td>0.500000</td>\n",
              "    </tr>\n",
              "    <tr>\n",
              "      <th>11920</th>\n",
              "      <td>4</td>\n",
              "      <td>1</td>\n",
              "      <td>0.250000</td>\n",
              "    </tr>\n",
              "  </tbody>\n",
              "</table>\n",
              "<p>154 rows × 3 columns</p>\n",
              "</div>"
            ],
            "text/plain": [
              "           count  sum     proba\n",
              "id_client                      \n",
              "5156          66   62  0.939394\n",
              "2582          55   51  0.927273\n",
              "2405          33   32  0.969697\n",
              "11764         17   16  0.941176\n",
              "2053          16   15  0.937500\n",
              "...          ...  ...       ...\n",
              "1406           6    1  0.166667\n",
              "12296          2    1  0.500000\n",
              "11879          2    1  0.500000\n",
              "1938           2    1  0.500000\n",
              "11920          4    1  0.250000\n",
              "\n",
              "[154 rows x 3 columns]"
            ]
          },
          "metadata": {}
        },
        {
          "output_type": "stream",
          "name": "stdout",
          "text": [
            "Размер таблицы (8922, 3)\n"
          ]
        }
      ]
    },
    {
      "cell_type": "code",
      "metadata": {
        "colab": {
          "base_uri": "https://localhost:8080/",
          "height": 281
        },
        "id": "jWl1e_hx4TJS",
        "outputId": "181e54eb-5b19-4a4b-e6d9-b63912ed371c"
      },
      "source": [
        "defolt_proba.hist(column='proba',bins=70);"
      ],
      "execution_count": null,
      "outputs": [
        {
          "output_type": "display_data",
          "data": {
            "image/png": "[encoded data removed]",
            "text/plain": [
              "<Figure size 432x288 with 1 Axes>"
            ]
          },
          "metadata": {
            "needs_background": "light"
          }
        }
      ]
    },
    {
      "cell_type": "code",
      "metadata": {
        "id": "rNg_ze1l49mK"
      },
      "source": [
        "def proba_generator(id):\n",
        "  #print(id)\n",
        "  try:\n",
        "     return (defolt_proba.loc[id,'proba'])\n",
        "  except:\n",
        "     return( -1)"
      ],
      "execution_count": null,
      "outputs": []
    },
    {
      "cell_type": "code",
      "metadata": {
        "id": "lbLTwl1q7MGG"
      },
      "source": [
        "data['defolt_proba'] = data['id_client'].apply(proba_generator)"
      ],
      "execution_count": null,
      "outputs": []
    },
    {
      "cell_type": "code",
      "metadata": {
        "colab": {
          "base_uri": "https://localhost:8080/",
          "height": 265
        },
        "id": "FjPj1isU7Wcv",
        "outputId": "a4c2d258-c631-4834-910e-92c6d4b9f8db"
      },
      "source": [
        "data['defolt_proba'].hist(bins=100);"
      ],
      "execution_count": null,
      "outputs": [
        {
          "output_type": "display_data",
          "data": {
            "image/png": "[encoded data removed]",
            "text/plain": [
              "<Figure size 432x288 with 1 Axes>"
            ]
          },
          "metadata": {
            "needs_background": "light"
          }
        }
      ]
    },
    {
      "cell_type": "markdown",
      "metadata": {
        "id": "o1SgnInlA3gw"
      },
      "source": [
        "#####Сгенерируем признак вероятности для имеющихся данных в тестовой выборке"
      ]
    },
    {
      "cell_type": "code",
      "metadata": {
        "colab": {
          "base_uri": "https://localhost:8080/",
          "height": 265
        },
        "id": "0Gf0ZEXt--RV",
        "outputId": "3b1fff26-423a-40ff-d283-a1c75445e39b"
      },
      "source": [
        "data_test['defolt_proba'] = data_test['id_client'].apply(proba_generator)\n",
        "data_test['defolt_proba'].hist();"
      ],
      "execution_count": null,
      "outputs": [
        {
          "output_type": "display_data",
          "data": {
            "image/png": "[encoded data removed]",
            "text/plain": [
              "<Figure size 432x288 with 1 Axes>"
            ]
          },
          "metadata": {
            "needs_background": "light"
          }
        }
      ]
    },
    {
      "cell_type": "code",
      "metadata": {
        "id": "eH4uHeE9ncs8"
      },
      "source": [
        "target= data['TARGET']"
      ],
      "execution_count": null,
      "outputs": []
    },
    {
      "cell_type": "markdown",
      "metadata": {
        "id": "pvrWmtNKBh4H"
      },
      "source": [
        "####Вырезать лишние признаки"
      ]
    },
    {
      "cell_type": "markdown",
      "metadata": {
        "id": "fhgjlZFLnCfO"
      },
      "source": [
        "#####Вырезать целевой признак из обучающей выборки"
      ]
    },
    {
      "cell_type": "code",
      "metadata": {
        "id": "sYUBQzMerlPg"
      },
      "source": [
        "data = data.drop(['TARGET'],axis='columns')"
      ],
      "execution_count": null,
      "outputs": []
    },
    {
      "cell_type": "markdown",
      "metadata": {
        "id": "nKTW8-rWLQhd"
      },
      "source": [
        "####Обработка пропусков"
      ]
    },
    {
      "cell_type": "markdown",
      "metadata": {
        "id": "0ZvUh9FPJcj4"
      },
      "source": [
        "#####Функция обработки пропусков"
      ]
    },
    {
      "cell_type": "code",
      "metadata": {
        "id": "rsptIuSEnS5C"
      },
      "source": [
        "def data_preparation(data):\n",
        "#####Вырезать признаки не имеющие смысла в обучающей выборке и малое количество значений и целевой признак\n",
        "  data = data.drop(to_drop,axis='columns')\n",
        "#####Заполнить NaN нулем для заранее определенных категорий\n",
        "  data[nan_to_zero] = data[nan_to_zero].fillna(value=0)\n",
        "#####Заполнить NaN словом \"Неизвестно\" для заранее известных категорий\n",
        "  data[to_fill_with_noname] = data[to_fill_with_noname].fillna(value='Неизвестно')\n",
        "#####Заполнить Nan единицами для заранее определенных категорий\n",
        "  data[nan_to_one] = data[nan_to_one].fillna(value=1)\n",
        "  return data"
      ],
      "execution_count": null,
      "outputs": []
    },
    {
      "cell_type": "markdown",
      "metadata": {
        "id": "qNojDY8pJhLL"
      },
      "source": [
        "#####Обработаем пропуски обучающей и тестовой выборки"
      ]
    },
    {
      "cell_type": "code",
      "metadata": {
        "id": "62z1uSkxqUjv"
      },
      "source": [
        "train_features = data_preparation(data)"
      ],
      "execution_count": null,
      "outputs": []
    },
    {
      "cell_type": "code",
      "metadata": {
        "id": "7EQsKIU-sXoK"
      },
      "source": [
        "test_features = data_preparation(data_test)"
      ],
      "execution_count": null,
      "outputs": []
    },
    {
      "cell_type": "code",
      "metadata": {
        "colab": {
          "base_uri": "https://localhost:8080/"
        },
        "id": "HogoMiJ7Bx2Z",
        "outputId": "64ca32d3-28a8-42a8-9b91-806087b871d8"
      },
      "source": [
        "train_features['OKOPF_GROUP']"
      ],
      "execution_count": null,
      "outputs": [
        {
          "output_type": "execute_result",
          "data": {
            "text/plain": [
              "0        Коммерческая корпоративная организация\n",
              "1                                    Неизвестно\n",
              "2            Коммерческая унитарная организация\n",
              "3        Коммерческая корпоративная организация\n",
              "4                                    Неизвестно\n",
              "                          ...                  \n",
              "17886        Коммерческая унитарная организация\n",
              "17887      Некоммерческая унитарная организация\n",
              "17888    Коммерческая корпоративная организация\n",
              "17889    Коммерческая корпоративная организация\n",
              "17890    Коммерческая корпоративная организация\n",
              "Name: OKOPF_GROUP, Length: 17891, dtype: object"
            ]
          },
          "metadata": {},
          "execution_count": 148
        }
      ]
    },
    {
      "cell_type": "code",
      "metadata": {
        "colab": {
          "base_uri": "https://localhost:8080/"
        },
        "id": "do0YbBaRB6AC",
        "outputId": "713b532a-732f-4f1e-c0aa-6a3c8406e8ff"
      },
      "source": [
        "train_features['OKFS_GROUP']"
      ],
      "execution_count": null,
      "outputs": [
        {
          "output_type": "execute_result",
          "data": {
            "text/plain": [
              "0                Частная собственность\n",
              "1                           Неизвестно\n",
              "2        Государственная собственность\n",
              "3                Частная собственность\n",
              "4                           Неизвестно\n",
              "                     ...              \n",
              "17886    Государственная собственность\n",
              "17887    Государственная собственность\n",
              "17888            Частная собственность\n",
              "17889            Частная собственность\n",
              "17890            Частная собственность\n",
              "Name: OKFS_GROUP, Length: 17891, dtype: object"
            ]
          },
          "metadata": {},
          "execution_count": 149
        }
      ]
    },
    {
      "cell_type": "markdown",
      "metadata": {
        "id": "VmAD5q23Lll3"
      },
      "source": [
        "####Кодирование категориальных признаков"
      ]
    },
    {
      "cell_type": "code",
      "metadata": {
        "id": "zwsWRmFtslTI"
      },
      "source": [
        "def OE_coding(train_features,test_features):\n",
        "  for c in to_OE_cols:\n",
        "    print(c)\n",
        "    encoder = OrdinalEncoder()\n",
        "    encoder.fit(train_features[c].values.reshape(-1,1))\n",
        "    train_features[c] = pd.DataFrame(encoder.transform(train_features[c].values.reshape(-1,1)))\n",
        "    #print(train_features[c])\n",
        "    test_features[c] = pd.DataFrame(encoder.transform(test_features[c].values.reshape(-1,1)))\n",
        "  return train_features,test_features"
      ],
      "execution_count": null,
      "outputs": []
    },
    {
      "cell_type": "code",
      "metadata": {
        "colab": {
          "base_uri": "https://localhost:8080/"
        },
        "id": "BRzhKqJwJi9U",
        "outputId": "3565c617-4a6d-418c-8366-072f2cf090e9"
      },
      "source": [
        "train_features,test_features = OE_coding(train_features,test_features)"
      ],
      "execution_count": null,
      "outputs": [
        {
          "output_type": "stream",
          "name": "stdout",
          "text": [
            "OKFS_GROUP\n",
            "OKOPF_GROUP\n",
            "OKOGU_GROUP\n",
            "WORKERSRANGE\n"
          ]
        }
      ]
    },
    {
      "cell_type": "code",
      "metadata": {
        "colab": {
          "base_uri": "https://localhost:8080/",
          "height": 419
        },
        "id": "giQKxrU-zmJ2",
        "outputId": "27412a0a-98f1-4957-b0bb-0999b5cf6d7c"
      },
      "source": [
        "train_features[to_OE_cols]"
      ],
      "execution_count": null,
      "outputs": [
        {
          "output_type": "execute_result",
          "data": {
            "text/html": [
              "<div>\n",
              "<style scoped>\n",
              "    .dataframe tbody tr th:only-of-type {\n",
              "        vertical-align: middle;\n",
              "    }\n",
              "\n",
              "    .dataframe tbody tr th {\n",
              "        vertical-align: top;\n",
              "    }\n",
              "\n",
              "    .dataframe thead th {\n",
              "        text-align: right;\n",
              "    }\n",
              "</style>\n",
              "<table border=\"1\" class=\"dataframe\">\n",
              "  <thead>\n",
              "    <tr style=\"text-align: right;\">\n",
              "      <th></th>\n",
              "      <th>OKFS_GROUP</th>\n",
              "      <th>OKOPF_GROUP</th>\n",
              "      <th>OKOGU_GROUP</th>\n",
              "      <th>WORKERSRANGE</th>\n",
              "    </tr>\n",
              "  </thead>\n",
              "  <tbody>\n",
              "    <tr>\n",
              "      <th>0</th>\n",
              "      <td>5.0</td>\n",
              "      <td>1.0</td>\n",
              "      <td>2.0</td>\n",
              "      <td>1.0</td>\n",
              "    </tr>\n",
              "    <tr>\n",
              "      <th>1</th>\n",
              "      <td>2.0</td>\n",
              "      <td>3.0</td>\n",
              "      <td>4.0</td>\n",
              "      <td>12.0</td>\n",
              "    </tr>\n",
              "    <tr>\n",
              "      <th>2</th>\n",
              "      <td>0.0</td>\n",
              "      <td>2.0</td>\n",
              "      <td>2.0</td>\n",
              "      <td>10.0</td>\n",
              "    </tr>\n",
              "    <tr>\n",
              "      <th>3</th>\n",
              "      <td>5.0</td>\n",
              "      <td>1.0</td>\n",
              "      <td>2.0</td>\n",
              "      <td>9.0</td>\n",
              "    </tr>\n",
              "    <tr>\n",
              "      <th>4</th>\n",
              "      <td>2.0</td>\n",
              "      <td>3.0</td>\n",
              "      <td>4.0</td>\n",
              "      <td>12.0</td>\n",
              "    </tr>\n",
              "    <tr>\n",
              "      <th>...</th>\n",
              "      <td>...</td>\n",
              "      <td>...</td>\n",
              "      <td>...</td>\n",
              "      <td>...</td>\n",
              "    </tr>\n",
              "    <tr>\n",
              "      <th>17886</th>\n",
              "      <td>0.0</td>\n",
              "      <td>2.0</td>\n",
              "      <td>2.0</td>\n",
              "      <td>10.0</td>\n",
              "    </tr>\n",
              "    <tr>\n",
              "      <th>17887</th>\n",
              "      <td>0.0</td>\n",
              "      <td>5.0</td>\n",
              "      <td>1.0</td>\n",
              "      <td>1.0</td>\n",
              "    </tr>\n",
              "    <tr>\n",
              "      <th>17888</th>\n",
              "      <td>5.0</td>\n",
              "      <td>1.0</td>\n",
              "      <td>2.0</td>\n",
              "      <td>0.0</td>\n",
              "    </tr>\n",
              "    <tr>\n",
              "      <th>17889</th>\n",
              "      <td>5.0</td>\n",
              "      <td>1.0</td>\n",
              "      <td>2.0</td>\n",
              "      <td>0.0</td>\n",
              "    </tr>\n",
              "    <tr>\n",
              "      <th>17890</th>\n",
              "      <td>5.0</td>\n",
              "      <td>1.0</td>\n",
              "      <td>2.0</td>\n",
              "      <td>5.0</td>\n",
              "    </tr>\n",
              "  </tbody>\n",
              "</table>\n",
              "<p>17891 rows × 4 columns</p>\n",
              "</div>"
            ],
            "text/plain": [
              "       OKFS_GROUP  OKOPF_GROUP  OKOGU_GROUP  WORKERSRANGE\n",
              "0             5.0          1.0          2.0           1.0\n",
              "1             2.0          3.0          4.0          12.0\n",
              "2             0.0          2.0          2.0          10.0\n",
              "3             5.0          1.0          2.0           9.0\n",
              "4             2.0          3.0          4.0          12.0\n",
              "...           ...          ...          ...           ...\n",
              "17886         0.0          2.0          2.0          10.0\n",
              "17887         0.0          5.0          1.0           1.0\n",
              "17888         5.0          1.0          2.0           0.0\n",
              "17889         5.0          1.0          2.0           0.0\n",
              "17890         5.0          1.0          2.0           5.0\n",
              "\n",
              "[17891 rows x 4 columns]"
            ]
          },
          "metadata": {},
          "execution_count": 152
        }
      ]
    },
    {
      "cell_type": "code",
      "metadata": {
        "id": "84UJBgFmAE8e"
      },
      "source": [
        "scaler = StandardScaler(with_mean=False,)  \n",
        "scaler.fit(train_features)  \n",
        "train_features = scaler.transform(train_features)  \n",
        "test_features = scaler.transform(test_features)"
      ],
      "execution_count": null,
      "outputs": []
    },
    {
      "cell_type": "markdown",
      "metadata": {
        "id": "1S_ELIImLZ8X"
      },
      "source": [
        "####Регуляризация"
      ]
    },
    {
      "cell_type": "markdown",
      "metadata": {
        "id": "jVhiiJZ1GwmA"
      },
      "source": [
        "#Обучение моделей"
      ]
    },
    {
      "cell_type": "code",
      "metadata": {
        "id": "uegiyNt-Uaoz"
      },
      "source": [
        "def result_saving(model,model_type):\n",
        "  data_test['TARGET']= model.predict_proba(test_features)[:,1]\n",
        "  now = datetime.datetime.now()\n",
        "  name_of_file = str('/content/drive/MyDrive/Colab Notebooks/MKB_credit_risk/res_'+model_type+'_'+ now.strftime(\"%d_%m_%Y_%H_%M\")+'.csv')\n",
        "  data_test[['id_contract', 'TARGET']].to_csv(name_of_file, sep=';', index=False)"
      ],
      "execution_count": null,
      "outputs": []
    },
    {
      "cell_type": "code",
      "metadata": {
        "id": "H08SlRkbdspC"
      },
      "source": [
        "model_RFR = RandomForestClassifier()\n",
        "model_RFR.fit(train_features,target)"
      ],
      "execution_count": null,
      "outputs": []
    },
    {
      "cell_type": "code",
      "metadata": {
        "id": "Wd8kMvmagJ5c"
      },
      "source": [
        "model_CBC = CatBoostClassifier(loss_function='CrossEntropy')\n",
        "model_CBC.fit(train_features,target)"
      ],
      "execution_count": null,
      "outputs": []
    },
    {
      "cell_type": "code",
      "metadata": {
        "colab": {
          "base_uri": "https://localhost:8080/"
        },
        "id": "uuXaBH4XOFZL",
        "outputId": "2527a53a-596d-4eda-b1b5-0753c2fcb9e8"
      },
      "source": [
        "model_DTC = DecisionTreeClassifier()\n",
        "model_DTC.fit(train_features,target)"
      ],
      "execution_count": null,
      "outputs": [
        {
          "output_type": "execute_result",
          "data": {
            "text/plain": [
              "DecisionTreeClassifier()"
            ]
          },
          "metadata": {},
          "execution_count": 160
        }
      ]
    },
    {
      "cell_type": "code",
      "metadata": {
        "colab": {
          "base_uri": "https://localhost:8080/"
        },
        "id": "BUKUrf-uPLTo",
        "outputId": "18f88ecf-b048-4590-b4f7-e700c707fb8f"
      },
      "source": [
        "model_GB = GradientBoostingClassifier()\n",
        "model_GB.fit(train_features,target)"
      ],
      "execution_count": null,
      "outputs": [
        {
          "output_type": "execute_result",
          "data": {
            "text/plain": [
              "GradientBoostingClassifier()"
            ]
          },
          "metadata": {},
          "execution_count": 162
        }
      ]
    },
    {
      "cell_type": "code",
      "metadata": {
        "colab": {
          "base_uri": "https://localhost:8080/"
        },
        "id": "cO9nJ8R-P--k",
        "outputId": "53cd379c-cb4c-4887-a544-cd5a10dcf2a0"
      },
      "source": [
        "model_LGBM = LGBMClassifier()\n",
        "model_LGBM.fit(train_features,target)"
      ],
      "execution_count": null,
      "outputs": [
        {
          "output_type": "execute_result",
          "data": {
            "text/plain": [
              "LGBMClassifier()"
            ]
          },
          "metadata": {},
          "execution_count": 165
        }
      ]
    },
    {
      "cell_type": "code",
      "metadata": {
        "colab": {
          "base_uri": "https://localhost:8080/"
        },
        "id": "KUvpfST7R4AB",
        "outputId": "4297c0e5-d40b-43b9-9b3e-6c64652bbf08"
      },
      "source": [
        "model_MLP = MLPClassifier()\n",
        "model_MLP.fit(train_features,target)"
      ],
      "execution_count": null,
      "outputs": [
        {
          "output_type": "execute_result",
          "data": {
            "text/plain": [
              "MLPClassifier()"
            ]
          },
          "metadata": {},
          "execution_count": 167
        }
      ]
    },
    {
      "cell_type": "code",
      "metadata": {
        "id": "7hAUNpjNSKyE"
      },
      "source": [
        "result_saving(model_MLP,'MLP')"
      ],
      "execution_count": null,
      "outputs": []
    },
    {
      "cell_type": "code",
      "metadata": {
        "id": "DVOBdtXKQW6I"
      },
      "source": [
        "result_saving(model_LGBM,'LGBM')"
      ],
      "execution_count": null,
      "outputs": []
    },
    {
      "cell_type": "code",
      "metadata": {
        "id": "XIJLnemDMhZo"
      },
      "source": [
        "result_saving(model_RFR,'RFR')\n",
        "result_saving(model_CBC,'CBC')"
      ],
      "execution_count": null,
      "outputs": []
    },
    {
      "cell_type": "code",
      "metadata": {
        "id": "oPqtJqrbOT08"
      },
      "source": [
        "result_saving(model_DTC,'DTC')"
      ],
      "execution_count": null,
      "outputs": []
    },
    {
      "cell_type": "code",
      "metadata": {
        "id": "EuwxTrVgPc6-"
      },
      "source": [
        "result_saving(model_GB,'GB')"
      ],
      "execution_count": null,
      "outputs": []
    },
    {
      "cell_type": "markdown",
      "metadata": {
        "id": "zdh2TqHnDeMF"
      },
      "source": [
        "###Проверим важность признаков"
      ]
    },
    {
      "cell_type": "markdown",
      "metadata": {
        "id": "sAF73GVJ7wYy"
      },
      "source": [
        "###Возможные улучшения"
      ]
    },
    {
      "cell_type": "markdown",
      "metadata": {
        "id": "uKRngN_57zlV"
      },
      "source": [
        "* Необходимо внимательно отсмотреть какие отрицательные значения должны быть заменены на положительные\n",
        "* Дату регистрации и дату регистрации в ФНС пока удалил,но возможно надо превратиить ее в года.\n",
        "* Отбросить лишние признаки после анализа важности признаков в RF\n",
        "* Попробовать обучить CatBoost без масштабирования и JrdinalEncoding"
      ]
    }
  ]
}